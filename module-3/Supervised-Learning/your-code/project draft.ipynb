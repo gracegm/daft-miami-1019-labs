{
 "cells": [
  {
   "cell_type": "code",
   "execution_count": null,
   "metadata": {},
   "outputs": [],
   "source": []
  },
  {
   "cell_type": "code",
   "execution_count": 2,
   "metadata": {},
   "outputs": [],
   "source": [
    "#needed to make web requests\n",
    "import requests\n",
    "\n",
    "#store the data we get as a dataframe\n",
    "import pandas as pd\n",
    "\n",
    "#convert the response as a strcuctured json\n",
    "import json\n",
    "\n",
    "#mathematical operations on lists\n",
    "import numpy as np\n",
    "\n",
    "#parse the datetimes we get from NOAA\n",
    "from datetime import datetime\n",
    "\n",
    "#add the access token you got from NOAA\n",
    "Token = 'xKIlBHakeOEdyBfhPkKcDKyLzjofRpNY'\n",
    "\n",
    "#MIAMI INTERNATIONAL AIRPORT, FL US station\n",
    "station_id = 'GHCND:USW00012839'\n",
    "\n",
    "# https://www.ncdc.noaa.gov/cdo-web/datatools/findstation"
   ]
  },
  {
   "cell_type": "code",
   "execution_count": 3,
   "metadata": {},
   "outputs": [
    {
     "name": "stdout",
     "output_type": "stream",
     "text": [
      "working on year 2015\n",
      "working on year 2016\n",
      "working on year 2017\n",
      "working on year 2018\n",
      "working on year 2019\n"
     ]
    }
   ],
   "source": [
    "#initialize lists to store data\n",
    "dates_temp = []\n",
    "dates_prcp = []\n",
    "temps = []\n",
    "prcp = []\n",
    "\n",
    "#for each year from 2015-2019 ...\n",
    "for year in range(2015, 2020):\n",
    "    year = str(year)\n",
    "    print('working on year '+year)\n",
    "    \n",
    "    #make the api call\n",
    "    r = requests.get('https://www.ncdc.noaa.gov/cdo-web/api/v2/data?datasetid=GHCND&datatypeid=TAVG&limit=1000&stationid=GHCND:USW00023129&startdate='+year+'-01-01&enddate='+year+'-12-31', headers={'token':Token})\n",
    "    #load the api response as a json\n",
    "    d = json.loads(r.text)\n",
    "    #get all items in the response which are average temperature readings\n",
    "    avg_temps = [item for item in d['results'] if item['datatype']=='TAVG']\n",
    "    #get the date field from all average temperature readings\n",
    "    dates_temp += [item['date'] for item in avg_temps]\n",
    "    #get the actual average temperature from all average temperature readings\n",
    "    temps += [item['value'] for item in avg_temps]"
   ]
  },
  {
   "cell_type": "code",
   "execution_count": 4,
   "metadata": {},
   "outputs": [],
   "source": [
    "#initialize dataframe\n",
    "df_temp = pd.DataFrame()\n",
    "\n",
    "#populate date and average temperature fields (cast string date to datetime and convert temperature from tenths of Celsius to Fahrenheit)\n",
    "df_temp['date'] = [datetime.strptime(d, \"%Y-%m-%dT%H:%M:%S\") for d in dates_temp]\n",
    "df_temp['avgTemp'] = [float(v)/10.0*1.8 + 32 for v in temps]"
   ]
  },
  {
   "cell_type": "code",
   "execution_count": 10,
   "metadata": {},
   "outputs": [
    {
     "data": {
      "text/plain": [
       "0   2015-01-01\n",
       "1   2015-01-02\n",
       "2   2015-01-03\n",
       "3   2015-01-04\n",
       "4   2015-01-05\n",
       "Name: date, dtype: datetime64[ns]"
      ]
     },
     "execution_count": 10,
     "metadata": {},
     "output_type": "execute_result"
    }
   ],
   "source": [
    "df_temp['date'].head()"
   ]
  },
  {
   "cell_type": "code",
   "execution_count": null,
   "metadata": {},
   "outputs": [],
   "source": []
  },
  {
   "cell_type": "code",
   "execution_count": 11,
   "metadata": {},
   "outputs": [
    {
     "data": {
      "text/plain": [
       "0    46.58\n",
       "1    48.02\n",
       "2    49.82\n",
       "3    52.16\n",
       "4    58.64\n",
       "Name: avgTemp, dtype: float64"
      ]
     },
     "execution_count": 11,
     "metadata": {},
     "output_type": "execute_result"
    }
   ],
   "source": [
    "df_temp['avgTemp'].head()"
   ]
  },
  {
   "cell_type": "code",
   "execution_count": null,
   "metadata": {},
   "outputs": [],
   "source": []
  },
  {
   "cell_type": "code",
   "execution_count": null,
   "metadata": {},
   "outputs": [],
   "source": []
  }
 ],
 "metadata": {
  "kernelspec": {
   "display_name": "Python 3",
   "language": "python",
   "name": "python3"
  },
  "language_info": {
   "codemirror_mode": {
    "name": "ipython",
    "version": 3
   },
   "file_extension": ".py",
   "mimetype": "text/x-python",
   "name": "python",
   "nbconvert_exporter": "python",
   "pygments_lexer": "ipython3",
   "version": "3.7.4"
  }
 },
 "nbformat": 4,
 "nbformat_minor": 2
}
