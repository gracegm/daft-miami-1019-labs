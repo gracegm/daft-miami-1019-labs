{
 "cells": [
  {
   "cell_type": "markdown",
   "metadata": {},
   "source": [
    "# DAY0 - Looking for Dataset + Problem "
   ]
  },
  {
   "cell_type": "code",
   "execution_count": 1,
   "metadata": {},
   "outputs": [],
   "source": [
    "# needed to make web requests\n",
    "import requests\n",
    "\n",
    "#store the data we get as a dataframe\n",
    "import pandas as pd\n",
    "\n",
    "#convert the response as a structured json\n",
    "import json\n",
    "\n",
    "#mathematical operations on lists\n",
    "import numpy as np\n",
    "\n",
    "#parse the datetimes we get from NOAA\n",
    "from datetime import datetime\n",
    "\n"
   ]
  },
  {
   "cell_type": "code",
   "execution_count": 89,
   "metadata": {},
   "outputs": [],
   "source": [
    "%matplotlib inline\n",
    "\n",
    "import numpy as np\n",
    "import pandas as pd\n",
    "import seaborn as sns\n",
    "import matplotlib.pyplot as plt\n",
    "\n",
    "from datetime import timedelta\n",
    "from sklearn.metrics import accuracy_score"
   ]
  },
  {
   "cell_type": "code",
   "execution_count": null,
   "metadata": {},
   "outputs": [],
   "source": []
  },
  {
   "cell_type": "code",
   "execution_count": null,
   "metadata": {},
   "outputs": [],
   "source": [
    "#add the access token you got from NOAA\n",
    "Token = 'xKIlBHakeOEdyBfhPkKcDKyLzjofRpNY'\n",
    "\n",
    "#MIAMI INTERNATIONAL AIRPORT, FL US station\n",
    "station_id = 'GHCND:USW00012839'\n",
    "\n",
    "# https://www.ncdc.noaa.gov/cdo-web/datatools/findstation"
   ]
  },
  {
   "cell_type": "code",
   "execution_count": 3,
   "metadata": {},
   "outputs": [
    {
     "name": "stdout",
     "output_type": "stream",
     "text": [
      "working on year 2015\n",
      "working on year 2016\n",
      "working on year 2017\n",
      "working on year 2018\n",
      "working on year 2019\n"
     ]
    }
   ],
   "source": [
    "#initialize lists to store data\n",
    "dates_temp = []\n",
    "dates_prcp = []\n",
    "temps = []\n",
    "prcp = []\n",
    "\n",
    "#for each year from 2015-2019 ...\n",
    "for year in range(2015, 2020):\n",
    "    year = str(year)\n",
    "    print('working on year '+year)\n",
    "    \n",
    "    #make the api call\n",
    "    r = requests.get('https://www.ncdc.noaa.gov/cdo-web/api/v2/data?datasetid=GHCND&datatypeid=TAVG&limit=1000&stationid=GHCND:USW00023129&startdate='+year+'-01-01&enddate='+year+'-12-31', headers={'token':Token})\n",
    "    #load the api response as a json\n",
    "    d = json.loads(r.text)\n",
    "    #get all items in the response which are average temperature readings\n",
    "    avg_temps = [item for item in d['results'] if item['datatype']=='TAVG']\n",
    "    #get the date field from all average temperature readings\n",
    "    dates_temp += [item['date'] for item in avg_temps]\n",
    "    #get the actual average temperature from all average temperature readings\n",
    "    temps += [item['value'] for item in avg_temps]"
   ]
  },
  {
   "cell_type": "code",
   "execution_count": 4,
   "metadata": {},
   "outputs": [],
   "source": [
    "#initialize dataframe\n",
    "df_temp = pd.DataFrame()\n",
    "\n",
    "#populate date and average temperature fields (cast string date to datetime and convert temperature from tenths of Celsius to Fahrenheit)\n",
    "df_temp['date'] = [datetime.strptime(d, \"%Y-%m-%dT%H:%M:%S\") for d in dates_temp]\n",
    "df_temp['avgTemp'] = [float(v)/10.0*1.8 + 32 for v in temps]"
   ]
  },
  {
   "cell_type": "code",
   "execution_count": 10,
   "metadata": {},
   "outputs": [
    {
     "data": {
      "text/plain": [
       "0   2015-01-01\n",
       "1   2015-01-02\n",
       "2   2015-01-03\n",
       "3   2015-01-04\n",
       "4   2015-01-05\n",
       "Name: date, dtype: datetime64[ns]"
      ]
     },
     "execution_count": 10,
     "metadata": {},
     "output_type": "execute_result"
    }
   ],
   "source": [
    "df_temp['date'].head()"
   ]
  },
  {
   "cell_type": "code",
   "execution_count": 11,
   "metadata": {},
   "outputs": [
    {
     "data": {
      "text/plain": [
       "0    46.58\n",
       "1    48.02\n",
       "2    49.82\n",
       "3    52.16\n",
       "4    58.64\n",
       "Name: avgTemp, dtype: float64"
      ]
     },
     "execution_count": 11,
     "metadata": {},
     "output_type": "execute_result"
    }
   ],
   "source": [
    "df_temp['avgTemp'].head()"
   ]
  },
  {
   "cell_type": "code",
   "execution_count": null,
   "metadata": {},
   "outputs": [],
   "source": []
  },
  {
   "cell_type": "code",
   "execution_count": null,
   "metadata": {},
   "outputs": [],
   "source": []
  },
  {
   "cell_type": "code",
   "execution_count": null,
   "metadata": {},
   "outputs": [],
   "source": []
  },
  {
   "cell_type": "markdown",
   "metadata": {},
   "source": [
    "# DAY1 - Brainstorming & Data Preparation\n",
    "\n",
    "    Idea generation & planning\n",
    "    Data gathering & cleaning\n",
    "    Data storage"
   ]
  },
  {
   "cell_type": "markdown",
   "metadata": {},
   "source": [
    "# Let's start with the Solar Dataset\n"
   ]
  },
  {
   "cell_type": "code",
   "execution_count": 110,
   "metadata": {
    "scrolled": true
   },
   "outputs": [
    {
     "data": {
      "text/html": [
       "<div>\n",
       "<style scoped>\n",
       "    .dataframe tbody tr th:only-of-type {\n",
       "        vertical-align: middle;\n",
       "    }\n",
       "\n",
       "    .dataframe tbody tr th {\n",
       "        vertical-align: top;\n",
       "    }\n",
       "\n",
       "    .dataframe thead th {\n",
       "        text-align: right;\n",
       "    }\n",
       "</style>\n",
       "<table border=\"1\" class=\"dataframe\">\n",
       "  <thead>\n",
       "    <tr style=\"text-align: right;\">\n",
       "      <th></th>\n",
       "      <th>Catalog Number</th>\n",
       "      <th>Calendar Date</th>\n",
       "      <th>Eclipse Time</th>\n",
       "      <th>Delta T (s)</th>\n",
       "      <th>Lunation Number</th>\n",
       "      <th>Saros Number</th>\n",
       "      <th>Eclipse Type</th>\n",
       "      <th>Gamma</th>\n",
       "      <th>Eclipse Magnitude</th>\n",
       "      <th>Latitude</th>\n",
       "      <th>Longitude</th>\n",
       "      <th>Sun Altitude</th>\n",
       "      <th>Sun Azimuth</th>\n",
       "      <th>Path Width (km)</th>\n",
       "      <th>Central Duration</th>\n",
       "    </tr>\n",
       "  </thead>\n",
       "  <tbody>\n",
       "    <tr>\n",
       "      <td>0</td>\n",
       "      <td>1</td>\n",
       "      <td>-1999 June 12</td>\n",
       "      <td>03:14:51</td>\n",
       "      <td>46438</td>\n",
       "      <td>-49456</td>\n",
       "      <td>5</td>\n",
       "      <td>T</td>\n",
       "      <td>-0.2701</td>\n",
       "      <td>1.0733</td>\n",
       "      <td>6.0N</td>\n",
       "      <td>33.3W</td>\n",
       "      <td>74</td>\n",
       "      <td>344</td>\n",
       "      <td>247</td>\n",
       "      <td>06m37s</td>\n",
       "    </tr>\n",
       "    <tr>\n",
       "      <td>1</td>\n",
       "      <td>2</td>\n",
       "      <td>-1999 December 5</td>\n",
       "      <td>23:45:23</td>\n",
       "      <td>46426</td>\n",
       "      <td>-49450</td>\n",
       "      <td>10</td>\n",
       "      <td>A</td>\n",
       "      <td>-0.2317</td>\n",
       "      <td>0.9382</td>\n",
       "      <td>32.9S</td>\n",
       "      <td>10.8E</td>\n",
       "      <td>76</td>\n",
       "      <td>21</td>\n",
       "      <td>236</td>\n",
       "      <td>06m44s</td>\n",
       "    </tr>\n",
       "    <tr>\n",
       "      <td>2</td>\n",
       "      <td>3</td>\n",
       "      <td>-1998 June 1</td>\n",
       "      <td>18:09:16</td>\n",
       "      <td>46415</td>\n",
       "      <td>-49444</td>\n",
       "      <td>15</td>\n",
       "      <td>T</td>\n",
       "      <td>0.4994</td>\n",
       "      <td>1.0284</td>\n",
       "      <td>46.2N</td>\n",
       "      <td>83.4E</td>\n",
       "      <td>60</td>\n",
       "      <td>151</td>\n",
       "      <td>111</td>\n",
       "      <td>02m15s</td>\n",
       "    </tr>\n",
       "    <tr>\n",
       "      <td>3</td>\n",
       "      <td>4</td>\n",
       "      <td>-1998 November 25</td>\n",
       "      <td>05:57:03</td>\n",
       "      <td>46403</td>\n",
       "      <td>-49438</td>\n",
       "      <td>20</td>\n",
       "      <td>A</td>\n",
       "      <td>-0.9045</td>\n",
       "      <td>0.9806</td>\n",
       "      <td>67.8S</td>\n",
       "      <td>143.8W</td>\n",
       "      <td>25</td>\n",
       "      <td>74</td>\n",
       "      <td>162</td>\n",
       "      <td>01m14s</td>\n",
       "    </tr>\n",
       "    <tr>\n",
       "      <td>4</td>\n",
       "      <td>5</td>\n",
       "      <td>-1997 April 22</td>\n",
       "      <td>13:19:56</td>\n",
       "      <td>46393</td>\n",
       "      <td>-49433</td>\n",
       "      <td>-13</td>\n",
       "      <td>P</td>\n",
       "      <td>-1.4670</td>\n",
       "      <td>0.1611</td>\n",
       "      <td>60.6S</td>\n",
       "      <td>106.4W</td>\n",
       "      <td>0</td>\n",
       "      <td>281</td>\n",
       "      <td>NaN</td>\n",
       "      <td>NaN</td>\n",
       "    </tr>\n",
       "  </tbody>\n",
       "</table>\n",
       "</div>"
      ],
      "text/plain": [
       "   Catalog Number      Calendar Date Eclipse Time  Delta T (s)  \\\n",
       "0               1      -1999 June 12     03:14:51        46438   \n",
       "1               2   -1999 December 5     23:45:23        46426   \n",
       "2               3       -1998 June 1     18:09:16        46415   \n",
       "3               4  -1998 November 25     05:57:03        46403   \n",
       "4               5     -1997 April 22     13:19:56        46393   \n",
       "\n",
       "   Lunation Number  Saros Number Eclipse Type   Gamma  Eclipse Magnitude  \\\n",
       "0           -49456             5            T -0.2701             1.0733   \n",
       "1           -49450            10            A -0.2317             0.9382   \n",
       "2           -49444            15            T  0.4994             1.0284   \n",
       "3           -49438            20            A -0.9045             0.9806   \n",
       "4           -49433           -13            P -1.4670             0.1611   \n",
       "\n",
       "  Latitude Longitude  Sun Altitude  Sun Azimuth Path Width (km)  \\\n",
       "0     6.0N     33.3W            74          344             247   \n",
       "1    32.9S     10.8E            76           21             236   \n",
       "2    46.2N     83.4E            60          151             111   \n",
       "3    67.8S    143.8W            25           74             162   \n",
       "4    60.6S    106.4W             0          281             NaN   \n",
       "\n",
       "  Central Duration  \n",
       "0           06m37s  \n",
       "1           06m44s  \n",
       "2           02m15s  \n",
       "3           01m14s  \n",
       "4              NaN  "
      ]
     },
     "execution_count": 110,
     "metadata": {},
     "output_type": "execute_result"
    }
   ],
   "source": [
    "import pandas as pd\n",
    "\n",
    "solar = pd.read_csv('/Users/gracemartinez/Downloads/solar.csv')\n",
    "solar.head()"
   ]
  },
  {
   "cell_type": "code",
   "execution_count": 111,
   "metadata": {},
   "outputs": [
    {
     "data": {
      "text/plain": [
       "(11898, 15)"
      ]
     },
     "execution_count": 111,
     "metadata": {},
     "output_type": "execute_result"
    }
   ],
   "source": [
    "solar.shape"
   ]
  },
  {
   "cell_type": "code",
   "execution_count": 112,
   "metadata": {},
   "outputs": [
    {
     "data": {
      "text/plain": [
       "Index(['Catalog Number', 'Calendar Date', 'Eclipse Time', 'Delta T (s)',\n",
       "       'Lunation Number', 'Saros Number', 'Eclipse Type', 'Gamma',\n",
       "       'Eclipse Magnitude', 'Latitude', 'Longitude', 'Sun Altitude',\n",
       "       'Sun Azimuth', 'Path Width (km)', 'Central Duration'],\n",
       "      dtype='object')"
      ]
     },
     "execution_count": 112,
     "metadata": {},
     "output_type": "execute_result"
    }
   ],
   "source": [
    "solar.columns"
   ]
  },
  {
   "cell_type": "code",
   "execution_count": 113,
   "metadata": {},
   "outputs": [
    {
     "data": {
      "text/plain": [
       "Index(['Catalog_Number', 'Calendar_Date', 'Eclipse_Time', 'Delta_T_(s)',\n",
       "       'Lunation_Number', 'Saros_Number', 'Eclipse_Type', 'Gamma',\n",
       "       'Eclipse_Magnitude', 'Latitude', 'Longitude', 'Sun_Altitude',\n",
       "       'Sun_Azimuth', 'Path_Width_(km)', 'Central_Duration'],\n",
       "      dtype='object')"
      ]
     },
     "execution_count": 113,
     "metadata": {},
     "output_type": "execute_result"
    }
   ],
   "source": [
    "solar.columns = solar.columns.str.replace(' ','_')\n",
    "solar.columns"
   ]
  },
  {
   "cell_type": "code",
   "execution_count": 112,
   "metadata": {},
   "outputs": [
    {
     "ename": "SyntaxError",
     "evalue": "(unicode error) 'unicodeescape' codec can't decode bytes in position 59-60: truncated \\uXXXX escape (<ipython-input-112-7a92ef395151>, line 10)",
     "output_type": "error",
     "traceback": [
      "\u001b[0;36m  File \u001b[0;32m\"<ipython-input-112-7a92ef395151>\"\u001b[0;36m, line \u001b[0;32m10\u001b[0m\n\u001b[0;31m    ['Gamma', 'Distance of the shadow cone axis from the center of Earth (\\units of equatorial radii)\\ at the instant of greatest eclipse.'],\u001b[0m\n\u001b[0m             ^\u001b[0m\n\u001b[0;31mSyntaxError\u001b[0m\u001b[0;31m:\u001b[0m (unicode error) 'unicodeescape' codec can't decode bytes in position 59-60: truncated \\uXXXX escape\n"
     ]
    }
   ],
   "source": [
    "#make a dataframe describing columns meanings\n",
    "\n",
    "# Import pandas library \n",
    "import pandas as pd \n",
    "  \n",
    "# initialize list of lists \n",
    "column_data = [['Catalog Number', 'Sequential number of the eclipse in the catalog links to the map published in the Five Millennium Canon of Solar Eclipses: -1999 to +3000.'], ['Calendar Date', 'Calendar Date at instant of Greatest Eclipse. Gregorian Calendar is used for dates after 1582 Oct 15. Julian Calendar is used for dates before 1582 Oct 04.'], \n",
    "               ['Eclipse Time', 'Duration of Time'], \n",
    "               ['Delta T (\\s)\\', \\'the arithmetic difference between Dynamical Time and Universal Time. It is a measure of the accumulated clock error due to the variable rotation period of Earth.'], \n",
    "               ['Lunation Number', 'the number of synodic months since New Moon of 2000 Jan 06. The Brown Lunation Number can be determined by adding 953.'], ['Saros Number', 'Saros series number of eclipse. Each eclipse in a Saros is separated by an interval of 18 years 11.3 days.'], \n",
    "               ['Eclipse Type', 'Eclipse Type where: P  = Partial Eclipse. A  = Annular Eclipse. T  = Total Eclipse. H  = Hybrid or Annular/Total Eclipse. Second character in Eclipse Type: \"m\" = Middle eclipse of Saros series. \"n\" = Central eclipse with no northern limit. \"s\" = Central eclipse with no southern limit. \"+\" = Non-central eclipse with no northern limit. \"-\" = Non-central eclipse with no southern limit. \"2\" = Hybrid path begins total and ends annular. \"3\" = Hybrid path begins annular and ends total. \"b\" = Saros series begins (\\first eclipse in series)\\. \"e\" = Saros series ends (\\last eclipse in series)\\.'],\n",
    "                ['Gamma', 'Distance of the shadow cone axis from the center of Earth (\\units of equatorial radii)\\ at the instant of greatest eclipse.'],\n",
    "                ['Eclipse Magnitude', 'the fraction of the Sun\\'s diameter obscured by the Moon. For annular, total and hybrid eclipses, this value is actually the diameter ratio of Moon/Sun.'], \n",
    "                ['Latitude', 'Latitude where greatest eclipse is seen.'], ['Longitude', 'Longitude where greatest eclipse is seen.'], ['Sun Altitude', 'Sun\\'s altitude at greatest eclipse.']\n",
    "                ['Sun Azimuth', 'Sun\\'s azimuth at greatest eclipse.'], ['Path Width (\\km)\\', 'Width of the path of totality or annularity at greatest eclipse (\\kilometers)\\.'], ['Central Duration', 'Central Line Duration of total or annular phase at greatest eclipse.']]\n",
    "\n",
    "  \n",
    "# Create the pandas DataFrame \n",
    "solar_df = pd.DataFrame(column_data, columns = ['Column_Name', 'Description']) \n",
    "  \n",
    "# print dataframe. \n",
    "solar_df "
   ]
  },
  {
   "cell_type": "code",
   "execution_count": 114,
   "metadata": {},
   "outputs": [
    {
     "data": {
      "text/plain": [
       "Catalog_Number         int64\n",
       "Calendar_Date         object\n",
       "Eclipse_Time          object\n",
       "Delta_T_(s)            int64\n",
       "Lunation_Number        int64\n",
       "Saros_Number           int64\n",
       "Eclipse_Type          object\n",
       "Gamma                float64\n",
       "Eclipse_Magnitude    float64\n",
       "Latitude              object\n",
       "Longitude             object\n",
       "Sun_Altitude           int64\n",
       "Sun_Azimuth            int64\n",
       "Path_Width_(km)       object\n",
       "Central_Duration      object\n",
       "dtype: object"
      ]
     },
     "execution_count": 114,
     "metadata": {},
     "output_type": "execute_result"
    }
   ],
   "source": [
    "solar.dtypes"
   ]
  },
  {
   "cell_type": "code",
   "execution_count": null,
   "metadata": {},
   "outputs": [],
   "source": [
    "# need to know what each column means/represents to know if they're a correct type"
   ]
  },
  {
   "cell_type": "code",
   "execution_count": null,
   "metadata": {},
   "outputs": [],
   "source": [
    "'''\n",
    "- Need to change:\n",
    "\n",
    "Calendar_Date         object -> (-)Y/M/D, ex. -1997 May 22\n",
    "Eclipse_Time          object -> Date\n",
    "\n",
    "- will drop for python, have again for tableau:\n",
    "\n",
    "Latitude              object, separate into 2 columns: decimal# & Letter\n",
    "Longitude             object, separate into 2 columns: decimal# & Letter\n",
    "\n",
    "- i dont think i need them:     need to see the correlation with the Y\n",
    "\n",
    "Path_Width_(km)       object    1/3 of null values. \n",
    "Central_Duration      object    1/3 of null values. "
   ]
  },
  {
   "cell_type": "code",
   "execution_count": 116,
   "metadata": {},
   "outputs": [
    {
     "data": {
      "text/plain": [
       "P     3875\n",
       "A     3755\n",
       "T     3049\n",
       "H      502\n",
       "Pb     163\n",
       "Pe     162\n",
       "Tm      72\n",
       "Am      72\n",
       "An      36\n",
       "A-      34\n",
       "A+      34\n",
       "H3      26\n",
       "As      25\n",
       "H2      24\n",
       "Hm      17\n",
       "T-      17\n",
       "Tn      14\n",
       "Ts      12\n",
       "T+       9\n",
       "Name: Eclipse_Type, dtype: int64"
      ]
     },
     "execution_count": 116,
     "metadata": {},
     "output_type": "execute_result"
    }
   ],
   "source": [
    "solar['Eclipse_Type'].value_counts()"
   ]
  },
  {
   "cell_type": "code",
   "execution_count": 32,
   "metadata": {},
   "outputs": [],
   "source": [
    "# we will data clean by putting all common categories together "
   ]
  },
  {
   "cell_type": "code",
   "execution_count": 117,
   "metadata": {},
   "outputs": [],
   "source": [
    "# only 4 types of lunar eclipse: P, A, T, H \n",
    "\n",
    "def eclipseClean(x):\n",
    "    if 'P' in x:\n",
    "        return('P')\n",
    "    if 'A' in x:\n",
    "        return('A')\n",
    "    if 'T' in x:\n",
    "        return('T')\n",
    "    if 'H' in x:\n",
    "        return('H')\n",
    "    \n",
    "    "
   ]
  },
  {
   "cell_type": "code",
   "execution_count": 118,
   "metadata": {},
   "outputs": [
    {
     "data": {
      "text/plain": [
       "P    4200\n",
       "A    3956\n",
       "T    3173\n",
       "H     569\n",
       "Name: Eclipse_Type, dtype: int64"
      ]
     },
     "execution_count": 118,
     "metadata": {},
     "output_type": "execute_result"
    }
   ],
   "source": [
    "solar['Eclipse_Type'] = list(map(eclipseClean,solar['Eclipse_Type']))\n",
    "solar['Eclipse_Type'].value_counts()"
   ]
  },
  {
   "cell_type": "code",
   "execution_count": 119,
   "metadata": {},
   "outputs": [
    {
     "data": {
      "text/plain": [
       "4"
      ]
     },
     "execution_count": 119,
     "metadata": {},
     "output_type": "execute_result"
    }
   ],
   "source": [
    "len(solar['Eclipse_Type'].value_counts())"
   ]
  },
  {
   "cell_type": "code",
   "execution_count": null,
   "metadata": {},
   "outputs": [],
   "source": []
  },
  {
   "cell_type": "code",
   "execution_count": null,
   "metadata": {},
   "outputs": [],
   "source": []
  },
  {
   "cell_type": "code",
   "execution_count": null,
   "metadata": {},
   "outputs": [],
   "source": []
  },
  {
   "cell_type": "code",
   "execution_count": null,
   "metadata": {},
   "outputs": [],
   "source": []
  },
  {
   "cell_type": "code",
   "execution_count": 100,
   "metadata": {},
   "outputs": [
    {
     "data": {
      "text/html": [
       "<div>\n",
       "<style scoped>\n",
       "    .dataframe tbody tr th:only-of-type {\n",
       "        vertical-align: middle;\n",
       "    }\n",
       "\n",
       "    .dataframe tbody tr th {\n",
       "        vertical-align: top;\n",
       "    }\n",
       "\n",
       "    .dataframe thead th {\n",
       "        text-align: right;\n",
       "    }\n",
       "</style>\n",
       "<table border=\"1\" class=\"dataframe\">\n",
       "  <thead>\n",
       "    <tr style=\"text-align: right;\">\n",
       "      <th></th>\n",
       "      <th>Eclipse_Type</th>\n",
       "    </tr>\n",
       "  </thead>\n",
       "  <tbody>\n",
       "    <tr>\n",
       "      <td>0</td>\n",
       "      <td>P</td>\n",
       "    </tr>\n",
       "    <tr>\n",
       "      <td>1</td>\n",
       "      <td>A</td>\n",
       "    </tr>\n",
       "    <tr>\n",
       "      <td>2</td>\n",
       "      <td>T</td>\n",
       "    </tr>\n",
       "    <tr>\n",
       "      <td>3</td>\n",
       "      <td>H</td>\n",
       "    </tr>\n",
       "  </tbody>\n",
       "</table>\n",
       "</div>"
      ],
      "text/plain": [
       "  Eclipse_Type\n",
       "0            P\n",
       "1            A\n",
       "2            T\n",
       "3            H"
      ]
     },
     "execution_count": 100,
     "metadata": {},
     "output_type": "execute_result"
    }
   ],
   "source": [
    "# Classify Eclipse_Types - classic encoder ordinal\n",
    "\n",
    "solar = pd.DataFrame({\n",
    "    'Eclipse_Type': ['P', 'A', 'T', 'H'],\n",
    "    'Outcome':[0, 1, 2, 3]})\n",
    "\n",
    "X = solar.drop('Outcome', axis = 1)\n",
    "y = solar.drop('Eclipse_Type', axis = 1)\n",
    "\n",
    "X"
   ]
  },
  {
   "cell_type": "code",
   "execution_count": 101,
   "metadata": {},
   "outputs": [
    {
     "data": {
      "text/html": [
       "<div>\n",
       "<style scoped>\n",
       "    .dataframe tbody tr th:only-of-type {\n",
       "        vertical-align: middle;\n",
       "    }\n",
       "\n",
       "    .dataframe tbody tr th {\n",
       "        vertical-align: top;\n",
       "    }\n",
       "\n",
       "    .dataframe thead th {\n",
       "        text-align: right;\n",
       "    }\n",
       "</style>\n",
       "<table border=\"1\" class=\"dataframe\">\n",
       "  <thead>\n",
       "    <tr style=\"text-align: right;\">\n",
       "      <th></th>\n",
       "      <th>Eclipse_Type</th>\n",
       "      <th>Outcome</th>\n",
       "    </tr>\n",
       "  </thead>\n",
       "  <tbody>\n",
       "    <tr>\n",
       "      <td>0</td>\n",
       "      <td>P</td>\n",
       "      <td>0</td>\n",
       "    </tr>\n",
       "    <tr>\n",
       "      <td>1</td>\n",
       "      <td>A</td>\n",
       "      <td>1</td>\n",
       "    </tr>\n",
       "    <tr>\n",
       "      <td>2</td>\n",
       "      <td>T</td>\n",
       "      <td>2</td>\n",
       "    </tr>\n",
       "    <tr>\n",
       "      <td>3</td>\n",
       "      <td>H</td>\n",
       "      <td>3</td>\n",
       "    </tr>\n",
       "  </tbody>\n",
       "</table>\n",
       "</div>"
      ],
      "text/plain": [
       "  Eclipse_Type  Outcome\n",
       "0            P        0\n",
       "1            A        1\n",
       "2            T        2\n",
       "3            H        3"
      ]
     },
     "execution_count": 101,
     "metadata": {},
     "output_type": "execute_result"
    }
   ],
   "source": [
    "solar"
   ]
  },
  {
   "cell_type": "code",
   "execution_count": 105,
   "metadata": {},
   "outputs": [
    {
     "ename": "NameError",
     "evalue": "name 'ce' is not defined",
     "output_type": "error",
     "traceback": [
      "\u001b[0;31m---------------------------------------------------------------------------\u001b[0m",
      "\u001b[0;31mNameError\u001b[0m                                 Traceback (most recent call last)",
      "\u001b[0;32m<ipython-input-105-bd775e614fb0>\u001b[0m in \u001b[0;36m<module>\u001b[0;34m\u001b[0m\n\u001b[1;32m      2\u001b[0m \u001b[0;32mfrom\u001b[0m \u001b[0msklearn\u001b[0m\u001b[0;34m.\u001b[0m\u001b[0mpreprocessing\u001b[0m \u001b[0;32mimport\u001b[0m \u001b[0mLabelEncoder\u001b[0m\u001b[0;34m\u001b[0m\u001b[0;34m\u001b[0m\u001b[0m\n\u001b[1;32m      3\u001b[0m \u001b[0;34m\u001b[0m\u001b[0m\n\u001b[0;32m----> 4\u001b[0;31m \u001b[0mce_ord\u001b[0m \u001b[0;34m=\u001b[0m \u001b[0mce\u001b[0m\u001b[0;34m.\u001b[0m\u001b[0mOrdinalEncoder\u001b[0m\u001b[0;34m(\u001b[0m\u001b[0mcols\u001b[0m \u001b[0;34m=\u001b[0m \u001b[0;34m[\u001b[0m\u001b[0;34m'Eclipse_Type'\u001b[0m\u001b[0;34m]\u001b[0m\u001b[0;34m)\u001b[0m\u001b[0;34m\u001b[0m\u001b[0;34m\u001b[0m\u001b[0m\n\u001b[0m\u001b[1;32m      5\u001b[0m \u001b[0mce_ord\u001b[0m\u001b[0;34m.\u001b[0m\u001b[0mfit_transform\u001b[0m\u001b[0;34m(\u001b[0m\u001b[0mX\u001b[0m\u001b[0;34m,\u001b[0m \u001b[0my\u001b[0m\u001b[0;34m[\u001b[0m\u001b[0;34m'Outcome'\u001b[0m\u001b[0;34m]\u001b[0m\u001b[0;34m)\u001b[0m\u001b[0;34m\u001b[0m\u001b[0;34m\u001b[0m\u001b[0m\n",
      "\u001b[0;31mNameError\u001b[0m: name 'ce' is not defined"
     ]
    }
   ],
   "source": [
    "import category_encoders as ce\n",
    "from sklearn.preprocessing import LabelEncoder\n",
    "\n",
    "ce_ord = ce.OrdinalEncoder(cols = ['Eclipse_Type'])\n",
    "ce_ord.fit_transform(X, y['Outcome'])"
   ]
  },
  {
   "cell_type": "code",
   "execution_count": null,
   "metadata": {},
   "outputs": [],
   "source": [
    "use regex to separate 2 columns or simple rstrip"
   ]
  },
  {
   "cell_type": "code",
   "execution_count": null,
   "metadata": {},
   "outputs": [],
   "source": [
    "# so there would be 4 different categories of 'Eclipse Type'"
   ]
  },
  {
   "cell_type": "code",
   "execution_count": 124,
   "metadata": {},
   "outputs": [
    {
     "data": {
      "text/plain": [
       "Catalog_Number          0\n",
       "Calendar_Date           0\n",
       "Eclipse_Time            0\n",
       "Delta_T_(s)             0\n",
       "Lunation_Number         0\n",
       "Saros_Number            0\n",
       "Eclipse_Type            0\n",
       "Gamma                   0\n",
       "Eclipse_Magnitude       0\n",
       "Latitude                0\n",
       "Longitude               0\n",
       "Sun_Altitude            0\n",
       "Sun_Azimuth             0\n",
       "Path_Width_(km)      4200\n",
       "Central_Duration     4200\n",
       "dtype: int64"
      ]
     },
     "execution_count": 124,
     "metadata": {},
     "output_type": "execute_result"
    }
   ],
   "source": [
    "solar.isnull().sum()"
   ]
  },
  {
   "cell_type": "code",
   "execution_count": 125,
   "metadata": {},
   "outputs": [
    {
     "data": {
      "text/plain": [
       "Catalog_Number       0.000000\n",
       "Calendar_Date        0.000000\n",
       "Eclipse_Time         0.000000\n",
       "Delta_T_(s)          0.000000\n",
       "Lunation_Number      0.000000\n",
       "Saros_Number         0.000000\n",
       "Eclipse_Type         0.000000\n",
       "Gamma                0.000000\n",
       "Eclipse_Magnitude    0.000000\n",
       "Latitude             0.000000\n",
       "Longitude            0.000000\n",
       "Sun_Altitude         0.000000\n",
       "Sun_Azimuth          0.000000\n",
       "Path_Width_(km)      0.353001\n",
       "Central_Duration     0.353001\n",
       "dtype: float64"
      ]
     },
     "execution_count": 125,
     "metadata": {},
     "output_type": "execute_result"
    }
   ],
   "source": [
    "# how much correlation\n",
    "\n",
    "solar.isnull().sum() / solar.shape[0]"
   ]
  },
  {
   "cell_type": "code",
   "execution_count": 126,
   "metadata": {},
   "outputs": [],
   "source": [
    "# need to drop 2 columns with high missing null values\n",
    "\n",
    "solar = solar.drop([\"Path_Width_(km)\", \"Central_Duration\"], axis=1)"
   ]
  },
  {
   "cell_type": "code",
   "execution_count": 127,
   "metadata": {},
   "outputs": [],
   "source": [
    "# not necessary for estimation of problem in python\n",
    "\n",
    "solar = solar.drop([\"Latitude\", \"Longitude\"], axis=1)"
   ]
  },
  {
   "cell_type": "code",
   "execution_count": 128,
   "metadata": {},
   "outputs": [
    {
     "data": {
      "text/html": [
       "<div>\n",
       "<style scoped>\n",
       "    .dataframe tbody tr th:only-of-type {\n",
       "        vertical-align: middle;\n",
       "    }\n",
       "\n",
       "    .dataframe tbody tr th {\n",
       "        vertical-align: top;\n",
       "    }\n",
       "\n",
       "    .dataframe thead th {\n",
       "        text-align: right;\n",
       "    }\n",
       "</style>\n",
       "<table border=\"1\" class=\"dataframe\">\n",
       "  <thead>\n",
       "    <tr style=\"text-align: right;\">\n",
       "      <th></th>\n",
       "      <th>Catalog_Number</th>\n",
       "      <th>Calendar_Date</th>\n",
       "      <th>Eclipse_Time</th>\n",
       "      <th>Delta_T_(s)</th>\n",
       "      <th>Lunation_Number</th>\n",
       "      <th>Saros_Number</th>\n",
       "      <th>Eclipse_Type</th>\n",
       "      <th>Gamma</th>\n",
       "      <th>Eclipse_Magnitude</th>\n",
       "      <th>Sun_Altitude</th>\n",
       "      <th>Sun_Azimuth</th>\n",
       "    </tr>\n",
       "  </thead>\n",
       "  <tbody>\n",
       "    <tr>\n",
       "      <td>0</td>\n",
       "      <td>1</td>\n",
       "      <td>-1999 June 12</td>\n",
       "      <td>03:14:51</td>\n",
       "      <td>46438</td>\n",
       "      <td>-49456</td>\n",
       "      <td>5</td>\n",
       "      <td>T</td>\n",
       "      <td>-0.2701</td>\n",
       "      <td>1.0733</td>\n",
       "      <td>74</td>\n",
       "      <td>344</td>\n",
       "    </tr>\n",
       "    <tr>\n",
       "      <td>1</td>\n",
       "      <td>2</td>\n",
       "      <td>-1999 December 5</td>\n",
       "      <td>23:45:23</td>\n",
       "      <td>46426</td>\n",
       "      <td>-49450</td>\n",
       "      <td>10</td>\n",
       "      <td>A</td>\n",
       "      <td>-0.2317</td>\n",
       "      <td>0.9382</td>\n",
       "      <td>76</td>\n",
       "      <td>21</td>\n",
       "    </tr>\n",
       "    <tr>\n",
       "      <td>2</td>\n",
       "      <td>3</td>\n",
       "      <td>-1998 June 1</td>\n",
       "      <td>18:09:16</td>\n",
       "      <td>46415</td>\n",
       "      <td>-49444</td>\n",
       "      <td>15</td>\n",
       "      <td>T</td>\n",
       "      <td>0.4994</td>\n",
       "      <td>1.0284</td>\n",
       "      <td>60</td>\n",
       "      <td>151</td>\n",
       "    </tr>\n",
       "    <tr>\n",
       "      <td>3</td>\n",
       "      <td>4</td>\n",
       "      <td>-1998 November 25</td>\n",
       "      <td>05:57:03</td>\n",
       "      <td>46403</td>\n",
       "      <td>-49438</td>\n",
       "      <td>20</td>\n",
       "      <td>A</td>\n",
       "      <td>-0.9045</td>\n",
       "      <td>0.9806</td>\n",
       "      <td>25</td>\n",
       "      <td>74</td>\n",
       "    </tr>\n",
       "    <tr>\n",
       "      <td>4</td>\n",
       "      <td>5</td>\n",
       "      <td>-1997 April 22</td>\n",
       "      <td>13:19:56</td>\n",
       "      <td>46393</td>\n",
       "      <td>-49433</td>\n",
       "      <td>-13</td>\n",
       "      <td>P</td>\n",
       "      <td>-1.4670</td>\n",
       "      <td>0.1611</td>\n",
       "      <td>0</td>\n",
       "      <td>281</td>\n",
       "    </tr>\n",
       "  </tbody>\n",
       "</table>\n",
       "</div>"
      ],
      "text/plain": [
       "   Catalog_Number      Calendar_Date Eclipse_Time  Delta_T_(s)  \\\n",
       "0               1      -1999 June 12     03:14:51        46438   \n",
       "1               2   -1999 December 5     23:45:23        46426   \n",
       "2               3       -1998 June 1     18:09:16        46415   \n",
       "3               4  -1998 November 25     05:57:03        46403   \n",
       "4               5     -1997 April 22     13:19:56        46393   \n",
       "\n",
       "   Lunation_Number  Saros_Number Eclipse_Type   Gamma  Eclipse_Magnitude  \\\n",
       "0           -49456             5            T -0.2701             1.0733   \n",
       "1           -49450            10            A -0.2317             0.9382   \n",
       "2           -49444            15            T  0.4994             1.0284   \n",
       "3           -49438            20            A -0.9045             0.9806   \n",
       "4           -49433           -13            P -1.4670             0.1611   \n",
       "\n",
       "   Sun_Altitude  Sun_Azimuth  \n",
       "0            74          344  \n",
       "1            76           21  \n",
       "2            60          151  \n",
       "3            25           74  \n",
       "4             0          281  "
      ]
     },
     "execution_count": 128,
     "metadata": {},
     "output_type": "execute_result"
    }
   ],
   "source": [
    "solar.head()"
   ]
  },
  {
   "cell_type": "code",
   "execution_count": 129,
   "metadata": {},
   "outputs": [
    {
     "data": {
      "text/plain": [
       "11"
      ]
     },
     "execution_count": 129,
     "metadata": {},
     "output_type": "execute_result"
    }
   ],
   "source": [
    "len(solar.columns)"
   ]
  },
  {
   "cell_type": "code",
   "execution_count": 130,
   "metadata": {},
   "outputs": [
    {
     "data": {
      "text/html": [
       "<div>\n",
       "<style scoped>\n",
       "    .dataframe tbody tr th:only-of-type {\n",
       "        vertical-align: middle;\n",
       "    }\n",
       "\n",
       "    .dataframe tbody tr th {\n",
       "        vertical-align: top;\n",
       "    }\n",
       "\n",
       "    .dataframe thead th {\n",
       "        text-align: right;\n",
       "    }\n",
       "</style>\n",
       "<table border=\"1\" class=\"dataframe\">\n",
       "  <thead>\n",
       "    <tr style=\"text-align: right;\">\n",
       "      <th></th>\n",
       "      <th>Calendar_Date</th>\n",
       "      <th>Eclipse_Time</th>\n",
       "      <th>Eclipse_Type</th>\n",
       "    </tr>\n",
       "  </thead>\n",
       "  <tbody>\n",
       "    <tr>\n",
       "      <td>0</td>\n",
       "      <td>-1999 June 12</td>\n",
       "      <td>03:14:51</td>\n",
       "      <td>T</td>\n",
       "    </tr>\n",
       "    <tr>\n",
       "      <td>1</td>\n",
       "      <td>-1999 December 5</td>\n",
       "      <td>23:45:23</td>\n",
       "      <td>A</td>\n",
       "    </tr>\n",
       "    <tr>\n",
       "      <td>2</td>\n",
       "      <td>-1998 June 1</td>\n",
       "      <td>18:09:16</td>\n",
       "      <td>T</td>\n",
       "    </tr>\n",
       "    <tr>\n",
       "      <td>3</td>\n",
       "      <td>-1998 November 25</td>\n",
       "      <td>05:57:03</td>\n",
       "      <td>A</td>\n",
       "    </tr>\n",
       "    <tr>\n",
       "      <td>4</td>\n",
       "      <td>-1997 April 22</td>\n",
       "      <td>13:19:56</td>\n",
       "      <td>P</td>\n",
       "    </tr>\n",
       "    <tr>\n",
       "      <td>...</td>\n",
       "      <td>...</td>\n",
       "      <td>...</td>\n",
       "      <td>...</td>\n",
       "    </tr>\n",
       "    <tr>\n",
       "      <td>11893</td>\n",
       "      <td>2998 December 10</td>\n",
       "      <td>03:18:31</td>\n",
       "      <td>P</td>\n",
       "    </tr>\n",
       "    <tr>\n",
       "      <td>11894</td>\n",
       "      <td>2999 May 6</td>\n",
       "      <td>23:23:57</td>\n",
       "      <td>T</td>\n",
       "    </tr>\n",
       "    <tr>\n",
       "      <td>11895</td>\n",
       "      <td>2999 October 30</td>\n",
       "      <td>09:34:33</td>\n",
       "      <td>A</td>\n",
       "    </tr>\n",
       "    <tr>\n",
       "      <td>11896</td>\n",
       "      <td>3000 April 26</td>\n",
       "      <td>14:18:06</td>\n",
       "      <td>T</td>\n",
       "    </tr>\n",
       "    <tr>\n",
       "      <td>11897</td>\n",
       "      <td>3000 October 19</td>\n",
       "      <td>16:10:16</td>\n",
       "      <td>H</td>\n",
       "    </tr>\n",
       "  </tbody>\n",
       "</table>\n",
       "<p>11898 rows × 3 columns</p>\n",
       "</div>"
      ],
      "text/plain": [
       "           Calendar_Date Eclipse_Time Eclipse_Type\n",
       "0          -1999 June 12     03:14:51            T\n",
       "1       -1999 December 5     23:45:23            A\n",
       "2           -1998 June 1     18:09:16            T\n",
       "3      -1998 November 25     05:57:03            A\n",
       "4         -1997 April 22     13:19:56            P\n",
       "...                  ...          ...          ...\n",
       "11893   2998 December 10     03:18:31            P\n",
       "11894         2999 May 6     23:23:57            T\n",
       "11895    2999 October 30     09:34:33            A\n",
       "11896      3000 April 26     14:18:06            T\n",
       "11897    3000 October 19     16:10:16            H\n",
       "\n",
       "[11898 rows x 3 columns]"
      ]
     },
     "execution_count": 130,
     "metadata": {},
     "output_type": "execute_result"
    }
   ],
   "source": [
    "SolarCategoricals = solar.select_dtypes(object)\n",
    "SolarCategoricals"
   ]
  },
  {
   "cell_type": "code",
   "execution_count": 80,
   "metadata": {},
   "outputs": [
    {
     "data": {
      "text/plain": [
       "3"
      ]
     },
     "execution_count": 80,
     "metadata": {},
     "output_type": "execute_result"
    }
   ],
   "source": [
    "len(SolarCategoricals.columns)"
   ]
  },
  {
   "cell_type": "code",
   "execution_count": 82,
   "metadata": {},
   "outputs": [
    {
     "data": {
      "text/html": [
       "<div>\n",
       "<style scoped>\n",
       "    .dataframe tbody tr th:only-of-type {\n",
       "        vertical-align: middle;\n",
       "    }\n",
       "\n",
       "    .dataframe tbody tr th {\n",
       "        vertical-align: top;\n",
       "    }\n",
       "\n",
       "    .dataframe thead th {\n",
       "        text-align: right;\n",
       "    }\n",
       "</style>\n",
       "<table border=\"1\" class=\"dataframe\">\n",
       "  <thead>\n",
       "    <tr style=\"text-align: right;\">\n",
       "      <th></th>\n",
       "      <th>Catalog_Number</th>\n",
       "      <th>Delta_T_(s)</th>\n",
       "      <th>Lunation_Number</th>\n",
       "      <th>Saros_Number</th>\n",
       "      <th>Gamma</th>\n",
       "      <th>Eclipse_Magnitude</th>\n",
       "      <th>Sun_Altitude</th>\n",
       "      <th>Sun_Azimuth</th>\n",
       "    </tr>\n",
       "  </thead>\n",
       "  <tbody>\n",
       "    <tr>\n",
       "      <td>0</td>\n",
       "      <td>1</td>\n",
       "      <td>46438</td>\n",
       "      <td>-49456</td>\n",
       "      <td>5</td>\n",
       "      <td>-0.2701</td>\n",
       "      <td>1.0733</td>\n",
       "      <td>74</td>\n",
       "      <td>344</td>\n",
       "    </tr>\n",
       "    <tr>\n",
       "      <td>1</td>\n",
       "      <td>2</td>\n",
       "      <td>46426</td>\n",
       "      <td>-49450</td>\n",
       "      <td>10</td>\n",
       "      <td>-0.2317</td>\n",
       "      <td>0.9382</td>\n",
       "      <td>76</td>\n",
       "      <td>21</td>\n",
       "    </tr>\n",
       "    <tr>\n",
       "      <td>2</td>\n",
       "      <td>3</td>\n",
       "      <td>46415</td>\n",
       "      <td>-49444</td>\n",
       "      <td>15</td>\n",
       "      <td>0.4994</td>\n",
       "      <td>1.0284</td>\n",
       "      <td>60</td>\n",
       "      <td>151</td>\n",
       "    </tr>\n",
       "    <tr>\n",
       "      <td>3</td>\n",
       "      <td>4</td>\n",
       "      <td>46403</td>\n",
       "      <td>-49438</td>\n",
       "      <td>20</td>\n",
       "      <td>-0.9045</td>\n",
       "      <td>0.9806</td>\n",
       "      <td>25</td>\n",
       "      <td>74</td>\n",
       "    </tr>\n",
       "    <tr>\n",
       "      <td>4</td>\n",
       "      <td>5</td>\n",
       "      <td>46393</td>\n",
       "      <td>-49433</td>\n",
       "      <td>-13</td>\n",
       "      <td>-1.4670</td>\n",
       "      <td>0.1611</td>\n",
       "      <td>0</td>\n",
       "      <td>281</td>\n",
       "    </tr>\n",
       "    <tr>\n",
       "      <td>...</td>\n",
       "      <td>...</td>\n",
       "      <td>...</td>\n",
       "      <td>...</td>\n",
       "      <td>...</td>\n",
       "      <td>...</td>\n",
       "      <td>...</td>\n",
       "      <td>...</td>\n",
       "      <td>...</td>\n",
       "    </tr>\n",
       "    <tr>\n",
       "      <td>11893</td>\n",
       "      <td>11894</td>\n",
       "      <td>4414</td>\n",
       "      <td>12355</td>\n",
       "      <td>187</td>\n",
       "      <td>1.2838</td>\n",
       "      <td>0.4773</td>\n",
       "      <td>0</td>\n",
       "      <td>179</td>\n",
       "    </tr>\n",
       "    <tr>\n",
       "      <td>11894</td>\n",
       "      <td>11895</td>\n",
       "      <td>4417</td>\n",
       "      <td>12360</td>\n",
       "      <td>154</td>\n",
       "      <td>0.8388</td>\n",
       "      <td>1.0566</td>\n",
       "      <td>33</td>\n",
       "      <td>146</td>\n",
       "    </tr>\n",
       "    <tr>\n",
       "      <td>11895</td>\n",
       "      <td>11896</td>\n",
       "      <td>4420</td>\n",
       "      <td>12366</td>\n",
       "      <td>159</td>\n",
       "      <td>-1.0023</td>\n",
       "      <td>0.9586</td>\n",
       "      <td>0</td>\n",
       "      <td>137</td>\n",
       "    </tr>\n",
       "    <tr>\n",
       "      <td>11896</td>\n",
       "      <td>11897</td>\n",
       "      <td>4424</td>\n",
       "      <td>12372</td>\n",
       "      <td>164</td>\n",
       "      <td>0.1310</td>\n",
       "      <td>1.0222</td>\n",
       "      <td>82</td>\n",
       "      <td>166</td>\n",
       "    </tr>\n",
       "    <tr>\n",
       "      <td>11897</td>\n",
       "      <td>11898</td>\n",
       "      <td>4428</td>\n",
       "      <td>12378</td>\n",
       "      <td>169</td>\n",
       "      <td>-0.2303</td>\n",
       "      <td>1.0049</td>\n",
       "      <td>77</td>\n",
       "      <td>16</td>\n",
       "    </tr>\n",
       "  </tbody>\n",
       "</table>\n",
       "<p>11898 rows × 8 columns</p>\n",
       "</div>"
      ],
      "text/plain": [
       "       Catalog_Number  Delta_T_(s)  Lunation_Number  Saros_Number   Gamma  \\\n",
       "0                   1        46438           -49456             5 -0.2701   \n",
       "1                   2        46426           -49450            10 -0.2317   \n",
       "2                   3        46415           -49444            15  0.4994   \n",
       "3                   4        46403           -49438            20 -0.9045   \n",
       "4                   5        46393           -49433           -13 -1.4670   \n",
       "...               ...          ...              ...           ...     ...   \n",
       "11893           11894         4414            12355           187  1.2838   \n",
       "11894           11895         4417            12360           154  0.8388   \n",
       "11895           11896         4420            12366           159 -1.0023   \n",
       "11896           11897         4424            12372           164  0.1310   \n",
       "11897           11898         4428            12378           169 -0.2303   \n",
       "\n",
       "       Eclipse_Magnitude  Sun_Altitude  Sun_Azimuth  \n",
       "0                 1.0733            74          344  \n",
       "1                 0.9382            76           21  \n",
       "2                 1.0284            60          151  \n",
       "3                 0.9806            25           74  \n",
       "4                 0.1611             0          281  \n",
       "...                  ...           ...          ...  \n",
       "11893             0.4773             0          179  \n",
       "11894             1.0566            33          146  \n",
       "11895             0.9586             0          137  \n",
       "11896             1.0222            82          166  \n",
       "11897             1.0049            77           16  \n",
       "\n",
       "[11898 rows x 8 columns]"
      ]
     },
     "execution_count": 82,
     "metadata": {},
     "output_type": "execute_result"
    }
   ],
   "source": [
    "SolarNumericals = solar._get_numeric_data()\n",
    "SolarNumericals"
   ]
  },
  {
   "cell_type": "code",
   "execution_count": 83,
   "metadata": {},
   "outputs": [
    {
     "data": {
      "text/plain": [
       "8"
      ]
     },
     "execution_count": 83,
     "metadata": {},
     "output_type": "execute_result"
    }
   ],
   "source": [
    "len(SolarNumericals.columns)"
   ]
  },
  {
   "cell_type": "code",
   "execution_count": 84,
   "metadata": {},
   "outputs": [
    {
     "data": {
      "text/plain": [
       "Catalog_Number         int64\n",
       "Calendar_Date         object\n",
       "Eclipse_Time          object\n",
       "Delta_T_(s)            int64\n",
       "Lunation_Number        int64\n",
       "Saros_Number           int64\n",
       "Eclipse_Type          object\n",
       "Gamma                float64\n",
       "Eclipse_Magnitude    float64\n",
       "Sun_Altitude           int64\n",
       "Sun_Azimuth            int64\n",
       "dtype: object"
      ]
     },
     "execution_count": 84,
     "metadata": {},
     "output_type": "execute_result"
    }
   ],
   "source": [
    "solar.dtypes"
   ]
  },
  {
   "cell_type": "code",
   "execution_count": 85,
   "metadata": {},
   "outputs": [
    {
     "data": {
      "text/plain": [
       "11"
      ]
     },
     "execution_count": 85,
     "metadata": {},
     "output_type": "execute_result"
    }
   ],
   "source": [
    "len(solar.dtypes)"
   ]
  },
  {
   "cell_type": "code",
   "execution_count": 86,
   "metadata": {},
   "outputs": [
    {
     "data": {
      "text/html": [
       "<div>\n",
       "<style scoped>\n",
       "    .dataframe tbody tr th:only-of-type {\n",
       "        vertical-align: middle;\n",
       "    }\n",
       "\n",
       "    .dataframe tbody tr th {\n",
       "        vertical-align: top;\n",
       "    }\n",
       "\n",
       "    .dataframe thead th {\n",
       "        text-align: right;\n",
       "    }\n",
       "</style>\n",
       "<table border=\"1\" class=\"dataframe\">\n",
       "  <thead>\n",
       "    <tr style=\"text-align: right;\">\n",
       "      <th></th>\n",
       "      <th>Catalog_Number</th>\n",
       "      <th>Calendar_Date</th>\n",
       "      <th>Eclipse_Time</th>\n",
       "      <th>Delta_T_(s)</th>\n",
       "      <th>Lunation_Number</th>\n",
       "      <th>Saros_Number</th>\n",
       "      <th>Eclipse_Type</th>\n",
       "      <th>Gamma</th>\n",
       "      <th>Eclipse_Magnitude</th>\n",
       "      <th>Sun_Altitude</th>\n",
       "      <th>Sun_Azimuth</th>\n",
       "    </tr>\n",
       "  </thead>\n",
       "  <tbody>\n",
       "    <tr>\n",
       "      <td>0</td>\n",
       "      <td>1</td>\n",
       "      <td>NaT</td>\n",
       "      <td>03:14:51</td>\n",
       "      <td>46438</td>\n",
       "      <td>-49456</td>\n",
       "      <td>5</td>\n",
       "      <td>T</td>\n",
       "      <td>-0.2701</td>\n",
       "      <td>1.0733</td>\n",
       "      <td>74</td>\n",
       "      <td>344</td>\n",
       "    </tr>\n",
       "    <tr>\n",
       "      <td>1</td>\n",
       "      <td>2</td>\n",
       "      <td>NaT</td>\n",
       "      <td>23:45:23</td>\n",
       "      <td>46426</td>\n",
       "      <td>-49450</td>\n",
       "      <td>10</td>\n",
       "      <td>A</td>\n",
       "      <td>-0.2317</td>\n",
       "      <td>0.9382</td>\n",
       "      <td>76</td>\n",
       "      <td>21</td>\n",
       "    </tr>\n",
       "    <tr>\n",
       "      <td>2</td>\n",
       "      <td>3</td>\n",
       "      <td>NaT</td>\n",
       "      <td>18:09:16</td>\n",
       "      <td>46415</td>\n",
       "      <td>-49444</td>\n",
       "      <td>15</td>\n",
       "      <td>T</td>\n",
       "      <td>0.4994</td>\n",
       "      <td>1.0284</td>\n",
       "      <td>60</td>\n",
       "      <td>151</td>\n",
       "    </tr>\n",
       "    <tr>\n",
       "      <td>3</td>\n",
       "      <td>4</td>\n",
       "      <td>NaT</td>\n",
       "      <td>05:57:03</td>\n",
       "      <td>46403</td>\n",
       "      <td>-49438</td>\n",
       "      <td>20</td>\n",
       "      <td>A</td>\n",
       "      <td>-0.9045</td>\n",
       "      <td>0.9806</td>\n",
       "      <td>25</td>\n",
       "      <td>74</td>\n",
       "    </tr>\n",
       "    <tr>\n",
       "      <td>4</td>\n",
       "      <td>5</td>\n",
       "      <td>NaT</td>\n",
       "      <td>13:19:56</td>\n",
       "      <td>46393</td>\n",
       "      <td>-49433</td>\n",
       "      <td>-13</td>\n",
       "      <td>P</td>\n",
       "      <td>-1.4670</td>\n",
       "      <td>0.1611</td>\n",
       "      <td>0</td>\n",
       "      <td>281</td>\n",
       "    </tr>\n",
       "    <tr>\n",
       "      <td>...</td>\n",
       "      <td>...</td>\n",
       "      <td>...</td>\n",
       "      <td>...</td>\n",
       "      <td>...</td>\n",
       "      <td>...</td>\n",
       "      <td>...</td>\n",
       "      <td>...</td>\n",
       "      <td>...</td>\n",
       "      <td>...</td>\n",
       "      <td>...</td>\n",
       "      <td>...</td>\n",
       "    </tr>\n",
       "    <tr>\n",
       "      <td>11893</td>\n",
       "      <td>11894</td>\n",
       "      <td>NaT</td>\n",
       "      <td>03:18:31</td>\n",
       "      <td>4414</td>\n",
       "      <td>12355</td>\n",
       "      <td>187</td>\n",
       "      <td>P</td>\n",
       "      <td>1.2838</td>\n",
       "      <td>0.4773</td>\n",
       "      <td>0</td>\n",
       "      <td>179</td>\n",
       "    </tr>\n",
       "    <tr>\n",
       "      <td>11894</td>\n",
       "      <td>11895</td>\n",
       "      <td>NaT</td>\n",
       "      <td>23:23:57</td>\n",
       "      <td>4417</td>\n",
       "      <td>12360</td>\n",
       "      <td>154</td>\n",
       "      <td>T</td>\n",
       "      <td>0.8388</td>\n",
       "      <td>1.0566</td>\n",
       "      <td>33</td>\n",
       "      <td>146</td>\n",
       "    </tr>\n",
       "    <tr>\n",
       "      <td>11895</td>\n",
       "      <td>11896</td>\n",
       "      <td>NaT</td>\n",
       "      <td>09:34:33</td>\n",
       "      <td>4420</td>\n",
       "      <td>12366</td>\n",
       "      <td>159</td>\n",
       "      <td>A</td>\n",
       "      <td>-1.0023</td>\n",
       "      <td>0.9586</td>\n",
       "      <td>0</td>\n",
       "      <td>137</td>\n",
       "    </tr>\n",
       "    <tr>\n",
       "      <td>11896</td>\n",
       "      <td>11897</td>\n",
       "      <td>NaT</td>\n",
       "      <td>14:18:06</td>\n",
       "      <td>4424</td>\n",
       "      <td>12372</td>\n",
       "      <td>164</td>\n",
       "      <td>T</td>\n",
       "      <td>0.1310</td>\n",
       "      <td>1.0222</td>\n",
       "      <td>82</td>\n",
       "      <td>166</td>\n",
       "    </tr>\n",
       "    <tr>\n",
       "      <td>11897</td>\n",
       "      <td>11898</td>\n",
       "      <td>NaT</td>\n",
       "      <td>16:10:16</td>\n",
       "      <td>4428</td>\n",
       "      <td>12378</td>\n",
       "      <td>169</td>\n",
       "      <td>H</td>\n",
       "      <td>-0.2303</td>\n",
       "      <td>1.0049</td>\n",
       "      <td>77</td>\n",
       "      <td>16</td>\n",
       "    </tr>\n",
       "  </tbody>\n",
       "</table>\n",
       "<p>11898 rows × 11 columns</p>\n",
       "</div>"
      ],
      "text/plain": [
       "       Catalog_Number Calendar_Date Eclipse_Time  Delta_T_(s)  \\\n",
       "0                   1           NaT     03:14:51        46438   \n",
       "1                   2           NaT     23:45:23        46426   \n",
       "2                   3           NaT     18:09:16        46415   \n",
       "3                   4           NaT     05:57:03        46403   \n",
       "4                   5           NaT     13:19:56        46393   \n",
       "...               ...           ...          ...          ...   \n",
       "11893           11894           NaT     03:18:31         4414   \n",
       "11894           11895           NaT     23:23:57         4417   \n",
       "11895           11896           NaT     09:34:33         4420   \n",
       "11896           11897           NaT     14:18:06         4424   \n",
       "11897           11898           NaT     16:10:16         4428   \n",
       "\n",
       "       Lunation_Number  Saros_Number Eclipse_Type   Gamma  Eclipse_Magnitude  \\\n",
       "0               -49456             5            T -0.2701             1.0733   \n",
       "1               -49450            10            A -0.2317             0.9382   \n",
       "2               -49444            15            T  0.4994             1.0284   \n",
       "3               -49438            20            A -0.9045             0.9806   \n",
       "4               -49433           -13            P -1.4670             0.1611   \n",
       "...                ...           ...          ...     ...                ...   \n",
       "11893            12355           187            P  1.2838             0.4773   \n",
       "11894            12360           154            T  0.8388             1.0566   \n",
       "11895            12366           159            A -1.0023             0.9586   \n",
       "11896            12372           164            T  0.1310             1.0222   \n",
       "11897            12378           169            H -0.2303             1.0049   \n",
       "\n",
       "       Sun_Altitude  Sun_Azimuth  \n",
       "0                74          344  \n",
       "1                76           21  \n",
       "2                60          151  \n",
       "3                25           74  \n",
       "4                 0          281  \n",
       "...             ...          ...  \n",
       "11893             0          179  \n",
       "11894            33          146  \n",
       "11895             0          137  \n",
       "11896            82          166  \n",
       "11897            77           16  \n",
       "\n",
       "[11898 rows x 11 columns]"
      ]
     },
     "execution_count": 86,
     "metadata": {},
     "output_type": "execute_result"
    }
   ],
   "source": [
    "# change Calendar_Date column to date time object\n",
    "\n",
    "solar['Calendar_Date'] = pd.to_datetime(solar['Calendar_Date'], format='%d/%m/%Y %H:%M', errors='coerce', utc=True)\n",
    "solar"
   ]
  },
  {
   "cell_type": "code",
   "execution_count": 87,
   "metadata": {},
   "outputs": [],
   "source": [
    "# use corr function, will untilize number of numerical columns \n",
    "\n",
    "S_corr_matrix = SolarNumericals.corr()"
   ]
  },
  {
   "cell_type": "code",
   "execution_count": 90,
   "metadata": {},
   "outputs": [
    {
     "data": {
      "text/plain": [
       "<matplotlib.axes._subplots.AxesSubplot at 0x1a17785ed0>"
      ]
     },
     "execution_count": 90,
     "metadata": {},
     "output_type": "execute_result"
    },
    {
     "data": {
      "image/png": "[encoded data removed]",
      "text/plain": [
       "<Figure size 576x576 with 2 Axes>"
      ]
     },
     "metadata": {
      "needs_background": "light"
     },
     "output_type": "display_data"
    }
   ],
   "source": [
    "# set fig size to have better readibility of heatmap\n",
    "\n",
    "fig, ax = plt.subplots(figsize=(8,8))\n",
    "S_heatmap = sns.heatmap(S_corr_matrix, annot =True, ax=ax)\n",
    "S_heatmap"
   ]
  },
  {
   "cell_type": "code",
   "execution_count": 91,
   "metadata": {},
   "outputs": [
    {
     "data": {
      "text/plain": [
       "([0, 1, 2, 3], <a list of 4 Text xticklabel objects>)"
      ]
     },
     "execution_count": 91,
     "metadata": {},
     "output_type": "execute_result"
    },
    {
     "data": {
      "image/png": "[encoded data removed]",
      "text/plain": [
       "<Figure size 432x288 with 1 Axes>"
      ]
     },
     "metadata": {
      "needs_background": "light"
     },
     "output_type": "display_data"
    }
   ],
   "source": [
    "plt.hist(solar[\"Eclipse_Type\"], bins = len(solar[\"Eclipse_Type\"].unique()))\n",
    "plt.xticks(rotation='vertical')"
   ]
  },
  {
   "cell_type": "code",
   "execution_count": null,
   "metadata": {},
   "outputs": [],
   "source": []
  },
  {
   "cell_type": "code",
   "execution_count": null,
   "metadata": {},
   "outputs": [],
   "source": [
    "def date_to_jd(date):\n",
    "#transform date (either julian or gregorian) into a julian day number\n",
    "    y = date[0]\n",
    "    mo = date[1]\n",
    "    d = date[2]\n",
    "    h = date[3]\n",
    "    mn = date[4]\n",
    "    s = date[5]"
   ]
  },
  {
   "cell_type": "code",
   "execution_count": null,
   "metadata": {},
   "outputs": [],
   "source": []
  },
  {
   "cell_type": "code",
   "execution_count": null,
   "metadata": {},
   "outputs": [],
   "source": []
  },
  {
   "cell_type": "code",
   "execution_count": null,
   "metadata": {},
   "outputs": [],
   "source": []
  },
  {
   "cell_type": "code",
   "execution_count": null,
   "metadata": {},
   "outputs": [],
   "source": []
  },
  {
   "cell_type": "code",
   "execution_count": null,
   "metadata": {},
   "outputs": [],
   "source": []
  },
  {
   "cell_type": "code",
   "execution_count": null,
   "metadata": {},
   "outputs": [],
   "source": []
  },
  {
   "cell_type": "code",
   "execution_count": null,
   "metadata": {},
   "outputs": [],
   "source": []
  },
  {
   "cell_type": "markdown",
   "metadata": {},
   "source": [
    "# NOW LUNAR DATASET "
   ]
  },
  {
   "cell_type": "code",
   "execution_count": 44,
   "metadata": {},
   "outputs": [
    {
     "data": {
      "text/html": [
       "<div>\n",
       "<style scoped>\n",
       "    .dataframe tbody tr th:only-of-type {\n",
       "        vertical-align: middle;\n",
       "    }\n",
       "\n",
       "    .dataframe tbody tr th {\n",
       "        vertical-align: top;\n",
       "    }\n",
       "\n",
       "    .dataframe thead th {\n",
       "        text-align: right;\n",
       "    }\n",
       "</style>\n",
       "<table border=\"1\" class=\"dataframe\">\n",
       "  <thead>\n",
       "    <tr style=\"text-align: right;\">\n",
       "      <th></th>\n",
       "      <th>Catalog Number</th>\n",
       "      <th>Calendar Date</th>\n",
       "      <th>Eclipse Time</th>\n",
       "      <th>Delta T (s)</th>\n",
       "      <th>Lunation Number</th>\n",
       "      <th>Saros Number</th>\n",
       "      <th>Eclipse Type</th>\n",
       "      <th>Quincena Solar Eclipse</th>\n",
       "      <th>Gamma</th>\n",
       "      <th>Penumbral Magnitude</th>\n",
       "      <th>Umbral Magnitude</th>\n",
       "      <th>Latitude</th>\n",
       "      <th>Longitude</th>\n",
       "      <th>Penumbral Eclipse Duration (m)</th>\n",
       "      <th>Partial Eclipse Duration (m)</th>\n",
       "      <th>Total Eclipse Duration (m)</th>\n",
       "    </tr>\n",
       "  </thead>\n",
       "  <tbody>\n",
       "    <tr>\n",
       "      <td>0</td>\n",
       "      <td>1</td>\n",
       "      <td>-1999 June 26</td>\n",
       "      <td>14:13:28</td>\n",
       "      <td>46437</td>\n",
       "      <td>-49456</td>\n",
       "      <td>17</td>\n",
       "      <td>N</td>\n",
       "      <td>t-</td>\n",
       "      <td>-1.0981</td>\n",
       "      <td>0.8791</td>\n",
       "      <td>-0.1922</td>\n",
       "      <td>24S</td>\n",
       "      <td>22W</td>\n",
       "      <td>268.8</td>\n",
       "      <td>-</td>\n",
       "      <td>-</td>\n",
       "    </tr>\n",
       "    <tr>\n",
       "      <td>1</td>\n",
       "      <td>2</td>\n",
       "      <td>-1999 November 21</td>\n",
       "      <td>20:23:49</td>\n",
       "      <td>46427</td>\n",
       "      <td>-49451</td>\n",
       "      <td>-16</td>\n",
       "      <td>N</td>\n",
       "      <td>-a</td>\n",
       "      <td>-1.1155</td>\n",
       "      <td>0.8143</td>\n",
       "      <td>-0.1921</td>\n",
       "      <td>15N</td>\n",
       "      <td>98W</td>\n",
       "      <td>233.4</td>\n",
       "      <td>-</td>\n",
       "      <td>-</td>\n",
       "    </tr>\n",
       "    <tr>\n",
       "      <td>2</td>\n",
       "      <td>3</td>\n",
       "      <td>-1998 May 17</td>\n",
       "      <td>05:47:36</td>\n",
       "      <td>46416</td>\n",
       "      <td>-49445</td>\n",
       "      <td>-11</td>\n",
       "      <td>P</td>\n",
       "      <td>-t</td>\n",
       "      <td>0.8988</td>\n",
       "      <td>1.2105</td>\n",
       "      <td>0.2069</td>\n",
       "      <td>13S</td>\n",
       "      <td>89E</td>\n",
       "      <td>281.7</td>\n",
       "      <td>102.7</td>\n",
       "      <td>-</td>\n",
       "    </tr>\n",
       "    <tr>\n",
       "      <td>3</td>\n",
       "      <td>4</td>\n",
       "      <td>-1998 November 11</td>\n",
       "      <td>05:15:58</td>\n",
       "      <td>46404</td>\n",
       "      <td>-49439</td>\n",
       "      <td>-6</td>\n",
       "      <td>P</td>\n",
       "      <td>-a</td>\n",
       "      <td>-0.4644</td>\n",
       "      <td>2.0382</td>\n",
       "      <td>0.9740</td>\n",
       "      <td>12N</td>\n",
       "      <td>113E</td>\n",
       "      <td>343.4</td>\n",
       "      <td>200.8</td>\n",
       "      <td>-</td>\n",
       "    </tr>\n",
       "    <tr>\n",
       "      <td>4</td>\n",
       "      <td>5</td>\n",
       "      <td>-1997 May 6</td>\n",
       "      <td>18:57:01</td>\n",
       "      <td>46392</td>\n",
       "      <td>-49433</td>\n",
       "      <td>-1</td>\n",
       "      <td>T+</td>\n",
       "      <td>pp</td>\n",
       "      <td>0.1003</td>\n",
       "      <td>2.6513</td>\n",
       "      <td>1.6963</td>\n",
       "      <td>11S</td>\n",
       "      <td>92W</td>\n",
       "      <td>322.8</td>\n",
       "      <td>213.5</td>\n",
       "      <td>98.2</td>\n",
       "    </tr>\n",
       "  </tbody>\n",
       "</table>\n",
       "</div>"
      ],
      "text/plain": [
       "   Catalog Number      Calendar Date Eclipse Time  Delta T (s)  \\\n",
       "0               1      -1999 June 26     14:13:28        46437   \n",
       "1               2  -1999 November 21     20:23:49        46427   \n",
       "2               3       -1998 May 17     05:47:36        46416   \n",
       "3               4  -1998 November 11     05:15:58        46404   \n",
       "4               5        -1997 May 6     18:57:01        46392   \n",
       "\n",
       "   Lunation Number  Saros Number Eclipse Type Quincena Solar Eclipse   Gamma  \\\n",
       "0           -49456            17            N                     t- -1.0981   \n",
       "1           -49451           -16            N                     -a -1.1155   \n",
       "2           -49445           -11            P                     -t  0.8988   \n",
       "3           -49439            -6            P                     -a -0.4644   \n",
       "4           -49433            -1           T+                     pp  0.1003   \n",
       "\n",
       "   Penumbral Magnitude  Umbral Magnitude Latitude Longitude  \\\n",
       "0               0.8791           -0.1922      24S       22W   \n",
       "1               0.8143           -0.1921      15N       98W   \n",
       "2               1.2105            0.2069      13S       89E   \n",
       "3               2.0382            0.9740      12N      113E   \n",
       "4               2.6513            1.6963      11S       92W   \n",
       "\n",
       "   Penumbral Eclipse Duration (m) Partial Eclipse Duration (m)  \\\n",
       "0                           268.8                            -   \n",
       "1                           233.4                            -   \n",
       "2                           281.7                        102.7   \n",
       "3                           343.4                        200.8   \n",
       "4                           322.8                        213.5   \n",
       "\n",
       "  Total Eclipse Duration (m)  \n",
       "0                          -  \n",
       "1                          -  \n",
       "2                          -  \n",
       "3                          -  \n",
       "4                       98.2  "
      ]
     },
     "execution_count": 44,
     "metadata": {},
     "output_type": "execute_result"
    }
   ],
   "source": [
    "lunar = pd.read_csv('/Users/gracemartinez/Downloads/lunar.csv')\n",
    "lunar.head()"
   ]
  },
  {
   "cell_type": "code",
   "execution_count": 8,
   "metadata": {},
   "outputs": [
    {
     "data": {
      "text/plain": [
       "(12064, 16)"
      ]
     },
     "execution_count": 8,
     "metadata": {},
     "output_type": "execute_result"
    }
   ],
   "source": [
    "lunar.shape"
   ]
  },
  {
   "cell_type": "code",
   "execution_count": 45,
   "metadata": {},
   "outputs": [
    {
     "data": {
      "text/plain": [
       "Index(['Catalog Number', 'Calendar Date', 'Eclipse Time', 'Delta T (s)',\n",
       "       'Lunation Number', 'Saros Number', 'Eclipse Type',\n",
       "       'Quincena Solar Eclipse', 'Gamma', 'Penumbral Magnitude',\n",
       "       'Umbral Magnitude', 'Latitude', 'Longitude',\n",
       "       'Penumbral Eclipse Duration (m)', 'Partial Eclipse Duration (m)',\n",
       "       'Total Eclipse Duration (m)'],\n",
       "      dtype='object')"
      ]
     },
     "execution_count": 45,
     "metadata": {},
     "output_type": "execute_result"
    }
   ],
   "source": [
    "lunar.columns"
   ]
  },
  {
   "cell_type": "code",
   "execution_count": 46,
   "metadata": {},
   "outputs": [
    {
     "data": {
      "text/plain": [
       "Index(['Catalog_Number', 'Calendar_Date', 'Eclipse_Time', 'Delta_T_(s)',\n",
       "       'Lunation_Number', 'Saros_Number', 'Eclipse_Type',\n",
       "       'Quincena_Solar_Eclipse', 'Gamma', 'Penumbral_Magnitude',\n",
       "       'Umbral_Magnitude', 'Latitude', 'Longitude',\n",
       "       'Penumbral_Eclipse_Duration_(m)', 'Partial_Eclipse_Duration_(m)',\n",
       "       'Total_Eclipse_Duration_(m)'],\n",
       "      dtype='object')"
      ]
     },
     "execution_count": 46,
     "metadata": {},
     "output_type": "execute_result"
    }
   ],
   "source": [
    "lunar.columns = lunar.columns.str.replace(' ','_')\n",
    "lunar.columns"
   ]
  },
  {
   "cell_type": "code",
   "execution_count": 12,
   "metadata": {},
   "outputs": [
    {
     "data": {
      "text/plain": [
       "16"
      ]
     },
     "execution_count": 12,
     "metadata": {},
     "output_type": "execute_result"
    }
   ],
   "source": [
    "len(lunar.columns)"
   ]
  },
  {
   "cell_type": "code",
   "execution_count": 13,
   "metadata": {},
   "outputs": [
    {
     "data": {
      "text/plain": [
       "Catalog_Number                      int64\n",
       "Calendar_Date                      object\n",
       "Eclipse_Time                       object\n",
       "Delta_T_(s)                         int64\n",
       "Lunation_Number                     int64\n",
       "Saros_Number                        int64\n",
       "Eclipse_Type                       object\n",
       "Quincena_Solar_Eclipse             object\n",
       "Gamma                             float64\n",
       "Penumbral_Magnitude               float64\n",
       "Umbral_Magnitude                  float64\n",
       "Latitude                           object\n",
       "Longitude                          object\n",
       "Penumbral_Eclipse_Duration_(m)    float64\n",
       "Partial_Eclipse_Duration_(m)       object\n",
       "Total_Eclipse_Duration_(m)         object\n",
       "dtype: object"
      ]
     },
     "execution_count": 13,
     "metadata": {},
     "output_type": "execute_result"
    }
   ],
   "source": [
    "lunar.dtypes"
   ]
  },
  {
   "cell_type": "code",
   "execution_count": null,
   "metadata": {},
   "outputs": [],
   "source": [
    "# need to know what each column mean/represents to know if they're a correct type"
   ]
  },
  {
   "cell_type": "code",
   "execution_count": 47,
   "metadata": {},
   "outputs": [
    {
     "data": {
      "text/plain": [
       "P     4207\n",
       "N     4020\n",
       "T     1405\n",
       "T+    1042\n",
       "T-    1032\n",
       "Nx     141\n",
       "Ne     115\n",
       "Nb     102\n",
       "Name: Eclipse_Type, dtype: int64"
      ]
     },
     "execution_count": 47,
     "metadata": {},
     "output_type": "execute_result"
    }
   ],
   "source": [
    "lunar['Eclipse_Type'].value_counts()"
   ]
  },
  {
   "cell_type": "code",
   "execution_count": 16,
   "metadata": {},
   "outputs": [
    {
     "data": {
      "text/plain": [
       "8"
      ]
     },
     "execution_count": 16,
     "metadata": {},
     "output_type": "execute_result"
    }
   ],
   "source": [
    "len(lunar['Eclipse_Type'].value_counts())"
   ]
  },
  {
   "cell_type": "code",
   "execution_count": 48,
   "metadata": {},
   "outputs": [],
   "source": [
    "# only 3 types of lunar eclipse: N, P, T\n",
    "\n",
    "def eclipsetypeClean(x):\n",
    "    if 'N' in x:\n",
    "        return('N')\n",
    "    if 'P' in x:\n",
    "        return('P')\n",
    "    if 'T' in x:\n",
    "        return('T')\n"
   ]
  },
  {
   "cell_type": "code",
   "execution_count": 49,
   "metadata": {},
   "outputs": [],
   "source": [
    "lunar['Eclipse_Type'] = list(map(eclipsetypeClean,lunar['Eclipse_Type']))"
   ]
  },
  {
   "cell_type": "code",
   "execution_count": 50,
   "metadata": {},
   "outputs": [
    {
     "data": {
      "text/plain": [
       "N    4378\n",
       "P    4207\n",
       "T    3479\n",
       "Name: Eclipse_Type, dtype: int64"
      ]
     },
     "execution_count": 50,
     "metadata": {},
     "output_type": "execute_result"
    }
   ],
   "source": [
    "lunar['Eclipse_Type'].value_counts()"
   ]
  },
  {
   "cell_type": "code",
   "execution_count": 52,
   "metadata": {},
   "outputs": [
    {
     "data": {
      "text/plain": [
       "3"
      ]
     },
     "execution_count": 52,
     "metadata": {},
     "output_type": "execute_result"
    }
   ],
   "source": [
    "len(lunar['Eclipse_Type'].value_counts())"
   ]
  },
  {
   "cell_type": "code",
   "execution_count": null,
   "metadata": {},
   "outputs": [],
   "source": [
    "# so there would be 3 different categories of 'Eclipse Type'"
   ]
  },
  {
   "cell_type": "code",
   "execution_count": 53,
   "metadata": {},
   "outputs": [
    {
     "data": {
      "text/plain": [
       "Catalog_Number                    0\n",
       "Calendar_Date                     0\n",
       "Eclipse_Time                      0\n",
       "Delta_T_(s)                       0\n",
       "Lunation_Number                   0\n",
       "Saros_Number                      0\n",
       "Eclipse_Type                      0\n",
       "Quincena_Solar_Eclipse            0\n",
       "Gamma                             0\n",
       "Penumbral_Magnitude               0\n",
       "Umbral_Magnitude                  0\n",
       "Latitude                          0\n",
       "Longitude                         0\n",
       "Penumbral_Eclipse_Duration_(m)    0\n",
       "Partial_Eclipse_Duration_(m)      0\n",
       "Total_Eclipse_Duration_(m)        0\n",
       "dtype: int64"
      ]
     },
     "execution_count": 53,
     "metadata": {},
     "output_type": "execute_result"
    }
   ],
   "source": [
    "lunar.isnull().sum()\n",
    "\n",
    "# there are no missing values"
   ]
  },
  {
   "cell_type": "code",
   "execution_count": 62,
   "metadata": {},
   "outputs": [],
   "source": [
    "# not necessary for estimation of problem in python\n",
    "\n",
    "lunar = lunar.drop([\"Latitude\", \"Longitude\"], axis=1)"
   ]
  },
  {
   "cell_type": "code",
   "execution_count": 63,
   "metadata": {},
   "outputs": [
    {
     "data": {
      "text/html": [
       "<div>\n",
       "<style scoped>\n",
       "    .dataframe tbody tr th:only-of-type {\n",
       "        vertical-align: middle;\n",
       "    }\n",
       "\n",
       "    .dataframe tbody tr th {\n",
       "        vertical-align: top;\n",
       "    }\n",
       "\n",
       "    .dataframe thead th {\n",
       "        text-align: right;\n",
       "    }\n",
       "</style>\n",
       "<table border=\"1\" class=\"dataframe\">\n",
       "  <thead>\n",
       "    <tr style=\"text-align: right;\">\n",
       "      <th></th>\n",
       "      <th>Catalog_Number</th>\n",
       "      <th>Calendar_Date</th>\n",
       "      <th>Eclipse_Time</th>\n",
       "      <th>Delta_T_(s)</th>\n",
       "      <th>Lunation_Number</th>\n",
       "      <th>Saros_Number</th>\n",
       "      <th>Eclipse_Type</th>\n",
       "      <th>Quincena_Solar_Eclipse</th>\n",
       "      <th>Gamma</th>\n",
       "      <th>Penumbral_Magnitude</th>\n",
       "      <th>Umbral_Magnitude</th>\n",
       "      <th>Penumbral_Eclipse_Duration_(m)</th>\n",
       "      <th>Partial_Eclipse_Duration_(m)</th>\n",
       "      <th>Total_Eclipse_Duration_(m)</th>\n",
       "    </tr>\n",
       "  </thead>\n",
       "  <tbody>\n",
       "    <tr>\n",
       "      <td>0</td>\n",
       "      <td>1</td>\n",
       "      <td>-1999 June 26</td>\n",
       "      <td>14:13:28</td>\n",
       "      <td>46437</td>\n",
       "      <td>-49456</td>\n",
       "      <td>17</td>\n",
       "      <td>N</td>\n",
       "      <td>t-</td>\n",
       "      <td>-1.0981</td>\n",
       "      <td>0.8791</td>\n",
       "      <td>-0.1922</td>\n",
       "      <td>268.8</td>\n",
       "      <td>-</td>\n",
       "      <td>-</td>\n",
       "    </tr>\n",
       "    <tr>\n",
       "      <td>1</td>\n",
       "      <td>2</td>\n",
       "      <td>-1999 November 21</td>\n",
       "      <td>20:23:49</td>\n",
       "      <td>46427</td>\n",
       "      <td>-49451</td>\n",
       "      <td>-16</td>\n",
       "      <td>N</td>\n",
       "      <td>-a</td>\n",
       "      <td>-1.1155</td>\n",
       "      <td>0.8143</td>\n",
       "      <td>-0.1921</td>\n",
       "      <td>233.4</td>\n",
       "      <td>-</td>\n",
       "      <td>-</td>\n",
       "    </tr>\n",
       "    <tr>\n",
       "      <td>2</td>\n",
       "      <td>3</td>\n",
       "      <td>-1998 May 17</td>\n",
       "      <td>05:47:36</td>\n",
       "      <td>46416</td>\n",
       "      <td>-49445</td>\n",
       "      <td>-11</td>\n",
       "      <td>P</td>\n",
       "      <td>-t</td>\n",
       "      <td>0.8988</td>\n",
       "      <td>1.2105</td>\n",
       "      <td>0.2069</td>\n",
       "      <td>281.7</td>\n",
       "      <td>102.7</td>\n",
       "      <td>-</td>\n",
       "    </tr>\n",
       "    <tr>\n",
       "      <td>3</td>\n",
       "      <td>4</td>\n",
       "      <td>-1998 November 11</td>\n",
       "      <td>05:15:58</td>\n",
       "      <td>46404</td>\n",
       "      <td>-49439</td>\n",
       "      <td>-6</td>\n",
       "      <td>P</td>\n",
       "      <td>-a</td>\n",
       "      <td>-0.4644</td>\n",
       "      <td>2.0382</td>\n",
       "      <td>0.9740</td>\n",
       "      <td>343.4</td>\n",
       "      <td>200.8</td>\n",
       "      <td>-</td>\n",
       "    </tr>\n",
       "    <tr>\n",
       "      <td>4</td>\n",
       "      <td>5</td>\n",
       "      <td>-1997 May 6</td>\n",
       "      <td>18:57:01</td>\n",
       "      <td>46392</td>\n",
       "      <td>-49433</td>\n",
       "      <td>-1</td>\n",
       "      <td>T</td>\n",
       "      <td>pp</td>\n",
       "      <td>0.1003</td>\n",
       "      <td>2.6513</td>\n",
       "      <td>1.6963</td>\n",
       "      <td>322.8</td>\n",
       "      <td>213.5</td>\n",
       "      <td>98.2</td>\n",
       "    </tr>\n",
       "  </tbody>\n",
       "</table>\n",
       "</div>"
      ],
      "text/plain": [
       "   Catalog_Number      Calendar_Date Eclipse_Time  Delta_T_(s)  \\\n",
       "0               1      -1999 June 26     14:13:28        46437   \n",
       "1               2  -1999 November 21     20:23:49        46427   \n",
       "2               3       -1998 May 17     05:47:36        46416   \n",
       "3               4  -1998 November 11     05:15:58        46404   \n",
       "4               5        -1997 May 6     18:57:01        46392   \n",
       "\n",
       "   Lunation_Number  Saros_Number Eclipse_Type Quincena_Solar_Eclipse   Gamma  \\\n",
       "0           -49456            17            N                     t- -1.0981   \n",
       "1           -49451           -16            N                     -a -1.1155   \n",
       "2           -49445           -11            P                     -t  0.8988   \n",
       "3           -49439            -6            P                     -a -0.4644   \n",
       "4           -49433            -1            T                     pp  0.1003   \n",
       "\n",
       "   Penumbral_Magnitude  Umbral_Magnitude  Penumbral_Eclipse_Duration_(m)  \\\n",
       "0               0.8791           -0.1922                           268.8   \n",
       "1               0.8143           -0.1921                           233.4   \n",
       "2               1.2105            0.2069                           281.7   \n",
       "3               2.0382            0.9740                           343.4   \n",
       "4               2.6513            1.6963                           322.8   \n",
       "\n",
       "  Partial_Eclipse_Duration_(m) Total_Eclipse_Duration_(m)  \n",
       "0                            -                          -  \n",
       "1                            -                          -  \n",
       "2                        102.7                          -  \n",
       "3                        200.8                          -  \n",
       "4                        213.5                       98.2  "
      ]
     },
     "execution_count": 63,
     "metadata": {},
     "output_type": "execute_result"
    }
   ],
   "source": [
    "lunar.head()"
   ]
  },
  {
   "cell_type": "code",
   "execution_count": 73,
   "metadata": {},
   "outputs": [
    {
     "data": {
      "text/plain": [
       "14"
      ]
     },
     "execution_count": 73,
     "metadata": {},
     "output_type": "execute_result"
    }
   ],
   "source": [
    "len(lunar.columns)"
   ]
  },
  {
   "cell_type": "code",
   "execution_count": 69,
   "metadata": {},
   "outputs": [
    {
     "data": {
      "text/html": [
       "<div>\n",
       "<style scoped>\n",
       "    .dataframe tbody tr th:only-of-type {\n",
       "        vertical-align: middle;\n",
       "    }\n",
       "\n",
       "    .dataframe tbody tr th {\n",
       "        vertical-align: top;\n",
       "    }\n",
       "\n",
       "    .dataframe thead th {\n",
       "        text-align: right;\n",
       "    }\n",
       "</style>\n",
       "<table border=\"1\" class=\"dataframe\">\n",
       "  <thead>\n",
       "    <tr style=\"text-align: right;\">\n",
       "      <th></th>\n",
       "      <th>Calendar_Date</th>\n",
       "      <th>Eclipse_Time</th>\n",
       "      <th>Eclipse_Type</th>\n",
       "      <th>Quincena_Solar_Eclipse</th>\n",
       "      <th>Partial_Eclipse_Duration_(m)</th>\n",
       "      <th>Total_Eclipse_Duration_(m)</th>\n",
       "    </tr>\n",
       "  </thead>\n",
       "  <tbody>\n",
       "    <tr>\n",
       "      <td>0</td>\n",
       "      <td>-1999 June 26</td>\n",
       "      <td>14:13:28</td>\n",
       "      <td>N</td>\n",
       "      <td>t-</td>\n",
       "      <td>-</td>\n",
       "      <td>-</td>\n",
       "    </tr>\n",
       "    <tr>\n",
       "      <td>1</td>\n",
       "      <td>-1999 November 21</td>\n",
       "      <td>20:23:49</td>\n",
       "      <td>N</td>\n",
       "      <td>-a</td>\n",
       "      <td>-</td>\n",
       "      <td>-</td>\n",
       "    </tr>\n",
       "    <tr>\n",
       "      <td>2</td>\n",
       "      <td>-1998 May 17</td>\n",
       "      <td>05:47:36</td>\n",
       "      <td>P</td>\n",
       "      <td>-t</td>\n",
       "      <td>102.7</td>\n",
       "      <td>-</td>\n",
       "    </tr>\n",
       "    <tr>\n",
       "      <td>3</td>\n",
       "      <td>-1998 November 11</td>\n",
       "      <td>05:15:58</td>\n",
       "      <td>P</td>\n",
       "      <td>-a</td>\n",
       "      <td>200.8</td>\n",
       "      <td>-</td>\n",
       "    </tr>\n",
       "    <tr>\n",
       "      <td>4</td>\n",
       "      <td>-1997 May 6</td>\n",
       "      <td>18:57:01</td>\n",
       "      <td>T</td>\n",
       "      <td>pp</td>\n",
       "      <td>213.5</td>\n",
       "      <td>98.2</td>\n",
       "    </tr>\n",
       "    <tr>\n",
       "      <td>...</td>\n",
       "      <td>...</td>\n",
       "      <td>...</td>\n",
       "      <td>...</td>\n",
       "      <td>...</td>\n",
       "      <td>...</td>\n",
       "      <td>...</td>\n",
       "    </tr>\n",
       "    <tr>\n",
       "      <td>12059</td>\n",
       "      <td>2999 May 21</td>\n",
       "      <td>13:21:13</td>\n",
       "      <td>P</td>\n",
       "      <td>t-</td>\n",
       "      <td>204.2</td>\n",
       "      <td>-</td>\n",
       "    </tr>\n",
       "    <tr>\n",
       "      <td>12060</td>\n",
       "      <td>2999 November 14</td>\n",
       "      <td>16:41:25</td>\n",
       "      <td>T</td>\n",
       "      <td>a-</td>\n",
       "      <td>189.1</td>\n",
       "      <td>18.5</td>\n",
       "    </tr>\n",
       "    <tr>\n",
       "      <td>12061</td>\n",
       "      <td>3000 May 10</td>\n",
       "      <td>15:00:16</td>\n",
       "      <td>N</td>\n",
       "      <td>t-</td>\n",
       "      <td>-</td>\n",
       "      <td>-</td>\n",
       "    </tr>\n",
       "    <tr>\n",
       "      <td>12062</td>\n",
       "      <td>3000 October 5</td>\n",
       "      <td>17:10:38</td>\n",
       "      <td>N</td>\n",
       "      <td>-h</td>\n",
       "      <td>-</td>\n",
       "      <td>-</td>\n",
       "    </tr>\n",
       "    <tr>\n",
       "      <td>12063</td>\n",
       "      <td>3000 November 4</td>\n",
       "      <td>05:45:18</td>\n",
       "      <td>N</td>\n",
       "      <td>h-</td>\n",
       "      <td>-</td>\n",
       "      <td>-</td>\n",
       "    </tr>\n",
       "  </tbody>\n",
       "</table>\n",
       "<p>12064 rows × 6 columns</p>\n",
       "</div>"
      ],
      "text/plain": [
       "           Calendar_Date Eclipse_Time Eclipse_Type Quincena_Solar_Eclipse  \\\n",
       "0          -1999 June 26     14:13:28            N                     t-   \n",
       "1      -1999 November 21     20:23:49            N                     -a   \n",
       "2           -1998 May 17     05:47:36            P                     -t   \n",
       "3      -1998 November 11     05:15:58            P                     -a   \n",
       "4            -1997 May 6     18:57:01            T                     pp   \n",
       "...                  ...          ...          ...                    ...   \n",
       "12059        2999 May 21     13:21:13            P                     t-   \n",
       "12060   2999 November 14     16:41:25            T                     a-   \n",
       "12061        3000 May 10     15:00:16            N                     t-   \n",
       "12062     3000 October 5     17:10:38            N                     -h   \n",
       "12063    3000 November 4     05:45:18            N                     h-   \n",
       "\n",
       "      Partial_Eclipse_Duration_(m) Total_Eclipse_Duration_(m)  \n",
       "0                                -                          -  \n",
       "1                                -                          -  \n",
       "2                            102.7                          -  \n",
       "3                            200.8                          -  \n",
       "4                            213.5                       98.2  \n",
       "...                            ...                        ...  \n",
       "12059                        204.2                          -  \n",
       "12060                        189.1                       18.5  \n",
       "12061                            -                          -  \n",
       "12062                            -                          -  \n",
       "12063                            -                          -  \n",
       "\n",
       "[12064 rows x 6 columns]"
      ]
     },
     "execution_count": 69,
     "metadata": {},
     "output_type": "execute_result"
    }
   ],
   "source": [
    "LunarCategoricals = lunar.select_dtypes(object)\n",
    "LunarCategoricals"
   ]
  },
  {
   "cell_type": "code",
   "execution_count": 71,
   "metadata": {},
   "outputs": [
    {
     "data": {
      "text/plain": [
       "6"
      ]
     },
     "execution_count": 71,
     "metadata": {},
     "output_type": "execute_result"
    }
   ],
   "source": [
    "len(LunarCategoricals.columns)"
   ]
  },
  {
   "cell_type": "code",
   "execution_count": 68,
   "metadata": {},
   "outputs": [
    {
     "data": {
      "text/html": [
       "<div>\n",
       "<style scoped>\n",
       "    .dataframe tbody tr th:only-of-type {\n",
       "        vertical-align: middle;\n",
       "    }\n",
       "\n",
       "    .dataframe tbody tr th {\n",
       "        vertical-align: top;\n",
       "    }\n",
       "\n",
       "    .dataframe thead th {\n",
       "        text-align: right;\n",
       "    }\n",
       "</style>\n",
       "<table border=\"1\" class=\"dataframe\">\n",
       "  <thead>\n",
       "    <tr style=\"text-align: right;\">\n",
       "      <th></th>\n",
       "      <th>Catalog_Number</th>\n",
       "      <th>Delta_T_(s)</th>\n",
       "      <th>Lunation_Number</th>\n",
       "      <th>Saros_Number</th>\n",
       "      <th>Gamma</th>\n",
       "      <th>Penumbral_Magnitude</th>\n",
       "      <th>Umbral_Magnitude</th>\n",
       "      <th>Penumbral_Eclipse_Duration_(m)</th>\n",
       "    </tr>\n",
       "  </thead>\n",
       "  <tbody>\n",
       "    <tr>\n",
       "      <td>0</td>\n",
       "      <td>1</td>\n",
       "      <td>46437</td>\n",
       "      <td>-49456</td>\n",
       "      <td>17</td>\n",
       "      <td>-1.0981</td>\n",
       "      <td>0.8791</td>\n",
       "      <td>-0.1922</td>\n",
       "      <td>268.8</td>\n",
       "    </tr>\n",
       "    <tr>\n",
       "      <td>1</td>\n",
       "      <td>2</td>\n",
       "      <td>46427</td>\n",
       "      <td>-49451</td>\n",
       "      <td>-16</td>\n",
       "      <td>-1.1155</td>\n",
       "      <td>0.8143</td>\n",
       "      <td>-0.1921</td>\n",
       "      <td>233.4</td>\n",
       "    </tr>\n",
       "    <tr>\n",
       "      <td>2</td>\n",
       "      <td>3</td>\n",
       "      <td>46416</td>\n",
       "      <td>-49445</td>\n",
       "      <td>-11</td>\n",
       "      <td>0.8988</td>\n",
       "      <td>1.2105</td>\n",
       "      <td>0.2069</td>\n",
       "      <td>281.7</td>\n",
       "    </tr>\n",
       "    <tr>\n",
       "      <td>3</td>\n",
       "      <td>4</td>\n",
       "      <td>46404</td>\n",
       "      <td>-49439</td>\n",
       "      <td>-6</td>\n",
       "      <td>-0.4644</td>\n",
       "      <td>2.0382</td>\n",
       "      <td>0.9740</td>\n",
       "      <td>343.4</td>\n",
       "    </tr>\n",
       "    <tr>\n",
       "      <td>4</td>\n",
       "      <td>5</td>\n",
       "      <td>46392</td>\n",
       "      <td>-49433</td>\n",
       "      <td>-1</td>\n",
       "      <td>0.1003</td>\n",
       "      <td>2.6513</td>\n",
       "      <td>1.6963</td>\n",
       "      <td>322.8</td>\n",
       "    </tr>\n",
       "    <tr>\n",
       "      <td>...</td>\n",
       "      <td>...</td>\n",
       "      <td>...</td>\n",
       "      <td>...</td>\n",
       "      <td>...</td>\n",
       "      <td>...</td>\n",
       "      <td>...</td>\n",
       "      <td>...</td>\n",
       "      <td>...</td>\n",
       "    </tr>\n",
       "    <tr>\n",
       "      <td>12059</td>\n",
       "      <td>12060</td>\n",
       "      <td>4417</td>\n",
       "      <td>12360</td>\n",
       "      <td>166</td>\n",
       "      <td>0.4971</td>\n",
       "      <td>1.9853</td>\n",
       "      <td>0.9069</td>\n",
       "      <td>356.7</td>\n",
       "    </tr>\n",
       "    <tr>\n",
       "      <td>12060</td>\n",
       "      <td>12061</td>\n",
       "      <td>4421</td>\n",
       "      <td>12366</td>\n",
       "      <td>171</td>\n",
       "      <td>-0.4669</td>\n",
       "      <td>1.9868</td>\n",
       "      <td>1.0153</td>\n",
       "      <td>308.0</td>\n",
       "    </tr>\n",
       "    <tr>\n",
       "      <td>12061</td>\n",
       "      <td>12062</td>\n",
       "      <td>4424</td>\n",
       "      <td>12372</td>\n",
       "      <td>176</td>\n",
       "      <td>1.2117</td>\n",
       "      <td>0.6604</td>\n",
       "      <td>-0.3907</td>\n",
       "      <td>230.6</td>\n",
       "    </tr>\n",
       "    <tr>\n",
       "      <td>12062</td>\n",
       "      <td>12063</td>\n",
       "      <td>4427</td>\n",
       "      <td>12377</td>\n",
       "      <td>143</td>\n",
       "      <td>1.5497</td>\n",
       "      <td>0.0329</td>\n",
       "      <td>-1.0039</td>\n",
       "      <td>53.5</td>\n",
       "    </tr>\n",
       "    <tr>\n",
       "      <td>12063</td>\n",
       "      <td>12064</td>\n",
       "      <td>4428</td>\n",
       "      <td>12378</td>\n",
       "      <td>181</td>\n",
       "      <td>-1.2170</td>\n",
       "      <td>0.6326</td>\n",
       "      <td>-0.3828</td>\n",
       "      <td>214.8</td>\n",
       "    </tr>\n",
       "  </tbody>\n",
       "</table>\n",
       "<p>12064 rows × 8 columns</p>\n",
       "</div>"
      ],
      "text/plain": [
       "       Catalog_Number  Delta_T_(s)  Lunation_Number  Saros_Number   Gamma  \\\n",
       "0                   1        46437           -49456            17 -1.0981   \n",
       "1                   2        46427           -49451           -16 -1.1155   \n",
       "2                   3        46416           -49445           -11  0.8988   \n",
       "3                   4        46404           -49439            -6 -0.4644   \n",
       "4                   5        46392           -49433            -1  0.1003   \n",
       "...               ...          ...              ...           ...     ...   \n",
       "12059           12060         4417            12360           166  0.4971   \n",
       "12060           12061         4421            12366           171 -0.4669   \n",
       "12061           12062         4424            12372           176  1.2117   \n",
       "12062           12063         4427            12377           143  1.5497   \n",
       "12063           12064         4428            12378           181 -1.2170   \n",
       "\n",
       "       Penumbral_Magnitude  Umbral_Magnitude  Penumbral_Eclipse_Duration_(m)  \n",
       "0                   0.8791           -0.1922                           268.8  \n",
       "1                   0.8143           -0.1921                           233.4  \n",
       "2                   1.2105            0.2069                           281.7  \n",
       "3                   2.0382            0.9740                           343.4  \n",
       "4                   2.6513            1.6963                           322.8  \n",
       "...                    ...               ...                             ...  \n",
       "12059               1.9853            0.9069                           356.7  \n",
       "12060               1.9868            1.0153                           308.0  \n",
       "12061               0.6604           -0.3907                           230.6  \n",
       "12062               0.0329           -1.0039                            53.5  \n",
       "12063               0.6326           -0.3828                           214.8  \n",
       "\n",
       "[12064 rows x 8 columns]"
      ]
     },
     "execution_count": 68,
     "metadata": {},
     "output_type": "execute_result"
    }
   ],
   "source": [
    "LunarNumericals = lunar._get_numeric_data()\n",
    "LunarNumericals"
   ]
  },
  {
   "cell_type": "code",
   "execution_count": 72,
   "metadata": {},
   "outputs": [
    {
     "data": {
      "text/plain": [
       "8"
      ]
     },
     "execution_count": 72,
     "metadata": {},
     "output_type": "execute_result"
    }
   ],
   "source": [
    "len(LunarNumericals.columns)"
   ]
  },
  {
   "cell_type": "code",
   "execution_count": 94,
   "metadata": {},
   "outputs": [],
   "source": [
    "L_corr_matrix = LunarNumericals.corr()"
   ]
  },
  {
   "cell_type": "code",
   "execution_count": 95,
   "metadata": {},
   "outputs": [
    {
     "data": {
      "text/plain": [
       "<matplotlib.axes._subplots.AxesSubplot at 0x1a181addd0>"
      ]
     },
     "execution_count": 95,
     "metadata": {},
     "output_type": "execute_result"
    },
    {
     "data": {
      "image/png": "[encoded data removed]",
      "text/plain": [
       "<Figure size 576x576 with 2 Axes>"
      ]
     },
     "metadata": {
      "needs_background": "light"
     },
     "output_type": "display_data"
    }
   ],
   "source": [
    "# set fig size to have better readibility of heatmap\n",
    "\n",
    "fig, ax = plt.subplots(figsize=(8,8))\n",
    "L_heatmap = sns.heatmap(L_corr_matrix, annot =True, ax=ax)\n",
    "L_heatmap"
   ]
  },
  {
   "cell_type": "code",
   "execution_count": 96,
   "metadata": {},
   "outputs": [
    {
     "data": {
      "text/plain": [
       "([0, 1, 2], <a list of 3 Text xticklabel objects>)"
      ]
     },
     "execution_count": 96,
     "metadata": {},
     "output_type": "execute_result"
    },
    {
     "data": {
      "image/png": "[encoded data removed]",
      "text/plain": [
       "<Figure size 432x288 with 1 Axes>"
      ]
     },
     "metadata": {
      "needs_background": "light"
     },
     "output_type": "display_data"
    }
   ],
   "source": [
    "plt.hist(lunar[\"Eclipse_Type\"], bins = len(lunar[\"Eclipse_Type\"].unique()))\n",
    "plt.xticks(rotation='vertical')"
   ]
  },
  {
   "cell_type": "code",
   "execution_count": null,
   "metadata": {},
   "outputs": [],
   "source": []
  },
  {
   "cell_type": "code",
   "execution_count": null,
   "metadata": {},
   "outputs": [],
   "source": []
  },
  {
   "cell_type": "code",
   "execution_count": null,
   "metadata": {},
   "outputs": [],
   "source": []
  },
  {
   "cell_type": "code",
   "execution_count": null,
   "metadata": {},
   "outputs": [],
   "source": []
  },
  {
   "cell_type": "code",
   "execution_count": 101,
   "metadata": {},
   "outputs": [
    {
     "ename": "ModuleNotFoundError",
     "evalue": "No module named 'tensorflow'",
     "output_type": "error",
     "traceback": [
      "\u001b[0;31m---------------------------------------------------------------------------\u001b[0m",
      "\u001b[0;31mModuleNotFoundError\u001b[0m                       Traceback (most recent call last)",
      "\u001b[0;32m<ipython-input-101-64156d691fe5>\u001b[0m in \u001b[0;36m<module>\u001b[0;34m\u001b[0m\n\u001b[0;32m----> 1\u001b[0;31m \u001b[0;32mimport\u001b[0m \u001b[0mtensorflow\u001b[0m \u001b[0;32mas\u001b[0m \u001b[0mtf\u001b[0m\u001b[0;34m\u001b[0m\u001b[0;34m\u001b[0m\u001b[0m\n\u001b[0m",
      "\u001b[0;31mModuleNotFoundError\u001b[0m: No module named 'tensorflow'"
     ]
    }
   ],
   "source": [
    "import tensorflow as tf"
   ]
  },
  {
   "cell_type": "code",
   "execution_count": null,
   "metadata": {},
   "outputs": [],
   "source": [
    "date = solar['Calendar Date'].str[1:].str.split()\n",
    "year, month, day = date.str[0], date.str[1], date.str[2]\n",
    "timeline = [pd.datetime(year=y, month=m, day=d) for y, m, d in zip(year, month, day)]"
   ]
  }
 ],
 "metadata": {
  "kernelspec": {
   "display_name": "Python 3",
   "language": "python",
   "name": "python3"
  },
  "language_info": {
   "codemirror_mode": {
    "name": "ipython",
    "version": 3
   },
   "file_extension": ".py",
   "mimetype": "text/x-python",
   "name": "python",
   "nbconvert_exporter": "python",
   "pygments_lexer": "ipython3",
   "version": "3.7.4"
  }
 },
 "nbformat": 4,
 "nbformat_minor": 2
}
